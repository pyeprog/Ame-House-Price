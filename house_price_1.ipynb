{
 "cells": [
  {
   "cell_type": "code",
   "execution_count": 2,
   "metadata": {},
   "outputs": [],
   "source": [
    "import pandas as pd\n",
    "import math\n",
    "from time import gmtime, strftime\n",
    "import seaborn as sns\n",
    "from sklearn.externals import joblib\n",
    "import numpy as np\n",
    "import matplotlib.pyplot as plt\n",
    "from pprint import pprint\n",
    "from tqdm import tqdm_notebook\n",
    "from sklearn import metrics\n",
    "from sklearn import model_selection\n",
    "from sklearn import ensemble\n",
    "from sklearn import linear_model\n",
    "from sklearn import preprocessing\n",
    "from sklearn import decomposition\n",
    "from sklearn import feature_selection\n",
    "from sklearn import linear_model\n",
    "from sklearn import feature_selection\n",
    "from sklearn import cluster\n",
    "from sklearn import gaussian_process\n",
    "from sklearn import neighbors\n",
    "from sklearn import neural_network\n",
    "from sklearn import isotonic\n",
    "from sklearn import tree\n",
    "from sklearn import svm\n",
    "from collections import Counter\n",
    "from scipy import stats\n",
    "from xgboost import XGBRegressor\n",
    "from lightgbm import LGBMRegressor\n",
    "from keras.models import Sequential\n",
    "from keras.layers import Dense\n",
    "from keras.layers import BatchNormalization\n",
    "from keras.layers import GaussianDropout\n",
    "from keras import optimizers\n",
    "from keras import initializers\n",
    "from keras import regularizers\n",
    "from keras import backend as K\n",
    "from catboost import CatBoostRegressor\n",
    "import warnings\n",
    "\n",
    "warnings.filterwarnings('ignore')\n",
    "pd.options.display.max_columns = 400"
   ]
  },
  {
   "cell_type": "code",
   "execution_count": 3,
   "metadata": {},
   "outputs": [],
   "source": [
    "def output_to_file(id_series, pred_data_without_exp):\n",
    "    pred_data_without_exp = np.expm1(pred_data_without_exp)\n",
    "    final_result = pd.concat([id_series, pd.DataFrame({'SalePrice':pred_data_without_exp}, index=id_series.index)], axis=1)\n",
    "    print(final_result)\n",
    "    final_result.to_csv('prediction_{}.csv'.format(strftime(\"%Y_%m_%d_%H_%M_%S\")), index=False)"
   ]
  },
  {
   "cell_type": "code",
   "execution_count": 4,
   "metadata": {},
   "outputs": [],
   "source": [
    "def save(obj, name):\n",
    "    try:\n",
    "        joblib.dump(obj, name)\n",
    "    except:\n",
    "        print('Save Failed')"
   ]
  },
  {
   "cell_type": "markdown",
   "metadata": {},
   "source": [
    "# Raw Data"
   ]
  },
  {
   "cell_type": "code",
   "execution_count": 5,
   "metadata": {},
   "outputs": [],
   "source": [
    "train_data_url = 'train.csv'\n",
    "test_data_url = 'test.csv'\n",
    "raw_train_data = pd.read_csv(train_data_url)\n",
    "raw_test_data = pd.read_csv(test_data_url)\n",
    "all_features = pd.concat([raw_train_data.drop(columns=[\"SalePrice\"]), raw_test_data], axis=0)"
   ]
  },
  {
   "cell_type": "markdown",
   "metadata": {},
   "source": [
    "# Validation Framework"
   ]
  },
  {
   "cell_type": "code",
   "execution_count": 6,
   "metadata": {},
   "outputs": [],
   "source": [
    "def rmse(y, y_pred):\n",
    "    return np.sqrt(metrics.mean_squared_error(y, y_pred))\n",
    "\n",
    "def rmse_keras(y, y_pred):\n",
    "    return K.sqrt(K.mean(K.square(y_pred - y))) \n",
    "\n",
    "rmse_scorer = metrics.make_scorer(lambda y,y_pred:np.sqrt(metrics.mean_squared_error(y,y_pred)), greater_is_better=False)\n",
    "\n",
    "def cross_validate(\n",
    "    models, \n",
    "    features,\n",
    "    labels,\n",
    "    outlier_remove_method=None,\n",
    "    k_fold=3,\n",
    "    holdout_rate=0.1,\n",
    "    n_epochs=1,\n",
    "    loss=rmse,\n",
    "    tolerate_span=0.03,\n",
    "    verbose=1,\n",
    "    ylim=(0,1)\n",
    "):\n",
    "    \n",
    "    assert len(features) == len(labels), 'features and labels should have same number of rows'\n",
    "    if type(models) is not list:\n",
    "        models = [models]\n",
    "           \n",
    "    if type(features) is not pd.DataFrame:\n",
    "        features = pd.DataFrame(features)\n",
    "\n",
    "    if type(labels) is not pd.Series and type(labels) is not pd.DataFrame:\n",
    "        labels = pd.Series(labels)\n",
    "        \n",
    "    if isinstance(n_epochs, (int, float, np.int32, np.int64, np.float32, np.float64)):\n",
    "        n_epochs = [int(n_epochs)] * len(models)\n",
    "        \n",
    "    info = {}\n",
    "        \n",
    "    kfold = model_selection.KFold(n_splits=k_fold)\n",
    "    n_holdout = int(len(features) * holdout_rate)\n",
    "    variance_dict = {}\n",
    "    cv_pred_all_models = None\n",
    "    qualified_models = []\n",
    "    if outlier_remove_method is not None and outlier_remove_method.__class__.__name__ == 'IsolationForest':\n",
    "        outlier_remove_method.fit(features, labels)\n",
    "    \n",
    "    for model_idx, model in enumerate(tqdm_notebook(models)):\n",
    "        variance_dict[model_idx] = []\n",
    "        \n",
    "        random_idx = np.random.permutation(features.index)\n",
    "        features = features.reindex(random_idx)\n",
    "        labels = labels.reindex(random_idx)\n",
    "        holdout_features, holdout_labels = features[:n_holdout], labels[:n_holdout]\n",
    "        remain_features, remain_labels = features[n_holdout:], labels[n_holdout:]\n",
    "        \n",
    "        if outlier_remove_method is not None and outlier_remove_method.__class__.__name__ == 'IsolationForest':\n",
    "            group_idx = outlier_remove_method.predict(remain_features.values)\n",
    "            cur_features = remain_features.iloc[[idx != -1 for idx in group_idx]]\n",
    "            cur_labels = remain_labels.iloc[[idx != -1 for idx in group_idx]]\n",
    "        else:\n",
    "            cur_features = remain_features\n",
    "            cur_labels = remain_labels\n",
    "        \n",
    "        for e in range(n_epochs[model_idx]):\n",
    "            i = 0\n",
    "            cv_pred = None\n",
    "            for train_idx, val_idx in kfold.split(cur_features, cur_labels):\n",
    "                i += 1\n",
    "                \n",
    "                cur_fold_features = cur_features.iloc[train_idx]\n",
    "                cur_fold_labels = cur_labels.iloc[train_idx]\n",
    "                \n",
    "                \n",
    "                if len(cur_features) == 0:\n",
    "                    return None, None, {}\n",
    "                \n",
    "                if model.__class__.__name__ == 'Sequential':\n",
    "                    model.fit(cur_fold_features.values, cur_fold_labels.values.reshape(-1,))\n",
    "                elif model.__class__.__name__ == 'CatBoostRegressor':\n",
    "                    model.fit(cur_fold_features.values, cur_fold_labels.values.reshape(-1,), verbose=False)\n",
    "                else:\n",
    "                    model.fit(cur_fold_features.values, cur_fold_labels.values.reshape(-1,))\n",
    "                    \n",
    "                pred = model.predict(cur_features.iloc[val_idx].values)\n",
    "\n",
    "                if cv_pred is None:\n",
    "                    cv_pred = pred.reshape((-1, 1))\n",
    "                    cv_label = cur_labels.iloc[val_idx]\n",
    "                else:\n",
    "                    cv_pred = np.concatenate((cv_pred, pred.reshape((-1, 1))), axis=0)\n",
    "                    cv_label = pd.concat([cv_label, remain_labels.iloc[val_idx]], axis=0)\n",
    "\n",
    "                variance = loss(cur_labels.iloc[val_idx], pred)\n",
    "                variance_dict[model_idx].append(variance)\n",
    "\n",
    "                if verbose > 1:\n",
    "                    print(\"Ep{}|{} ({}/{}) validation {}: {}\".format(e, model.__class__.__name__, i, k_fold, loss.__name__, variance))\n",
    "        \n",
    "        cv_variance = loss(cv_label, cv_pred)\n",
    "        train_pred_loss = loss(remain_labels, model.predict(remain_features.values))\n",
    "        \n",
    "        if verbose > 0:\n",
    "            print(\"{} Train data average {}: {}\".format(model.__class__.__name__, loss.__name__, train_pred_loss))\n",
    "            \n",
    "        if holdout_rate > 0:\n",
    "            cv_pred_with_holdout = np.concatenate((model.predict(holdout_features.values).reshape((-1, 1)), cv_pred), axis=0)\n",
    "        else:\n",
    "            cv_pred_with_holdout = cv_pred\n",
    "            \n",
    "        if cv_pred_all_models is None:\n",
    "            cv_pred_all_models = cv_pred_with_holdout\n",
    "        else:\n",
    "            if cv_pred_all_models.shape[0] == cv_pred_with_holdout.shape[0]:\n",
    "                cv_pred_all_models = np.concatenate((cv_pred_all_models, cv_pred_with_holdout), axis=1)\n",
    "            else:\n",
    "                if type(cv_pred_all_models) != list:\n",
    "                    cv_pred_all_models = [cv_pred_all_models]\n",
    "                cv_pred_all_models.append(cv_pred_with_holdout)\n",
    "                \n",
    "        info[model_idx] = {'cv': cv_variance}\n",
    "        info[model_idx]['train'] = train_pred_loss\n",
    "        \n",
    "        if model.__class__.__name__ == 'Sequential':\n",
    "            model.fit(remain_features.values, remain_labels.values.reshape(-1,))\n",
    "        elif model.__class__.__name__ == 'CatBoostRegressor':\n",
    "            model.fit(remain_features.values, remain_labels.values.reshape(-1,), verbose=False)\n",
    "        else:\n",
    "            model.fit(remain_features.values, remain_labels.values.reshape(-1,))\n",
    "            \n",
    "        if holdout_rate > 0:\n",
    "            holdout_variance = loss(holdout_labels, model.predict(holdout_features.values))\n",
    "            info[model_idx]['holdout'] = holdout_variance\n",
    "            \n",
    "            if verbose > 0:\n",
    "                print(\"{} Holdout {}: {}\".format(model.__class__.__name__, loss.__name__, holdout_variance))\n",
    "\n",
    "            if holdout_variance - tolerate_span <= cv_variance:\n",
    "                qualified_models.append(model)\n",
    "        else:\n",
    "            qualified_models.append(model)\n",
    "\n",
    "    if verbose >= 2:\n",
    "        plt.gca().set_ylim(*ylim)\n",
    "        for i, variance_list in enumerate(variance_dict.values()):\n",
    "            plt.plot(variance_list, label=models[i].__class__.__name__)\n",
    "        plt.legend()\n",
    "        plt.show()\n",
    "        \n",
    "    return qualified_models, cv_pred_all_models, info\n",
    "    "
   ]
  },
  {
   "cell_type": "markdown",
   "metadata": {},
   "source": [
    "## Prediction Distribution"
   ]
  },
  {
   "cell_type": "code",
   "execution_count": 7,
   "metadata": {},
   "outputs": [],
   "source": [
    "def show_dist(models, features, labels, on_one_plot=False):\n",
    "    if type(features) != np.ndarray:\n",
    "        features = features.values\n",
    "    model_preds = [model.predict(features).reshape((-1, 1)) for model in models]\n",
    "    if on_one_plot:\n",
    "        plt.figure(figsize=(12, 4))\n",
    "        sns.distplot(labels, hist=False, label='Labels')\n",
    "        for i, pred in enumerate(model_preds):\n",
    "            sns.distplot(pred, hist=False, label=models[i].__class__.__name__)\n",
    "            plt.legend()\n",
    "            \n",
    "    else:\n",
    "        plt.figure(figsize=(12, 4*len(models)))\n",
    "        for i, pred in enumerate(model_preds):\n",
    "            plt.subplot(len(models), 1, i+1)\n",
    "            sns.distplot(pred, hist=False, label=models[i].__class__.__name__)\n",
    "            sns.distplot(np.log1p(raw_train_data['SalePrice']), hist=False, label='Labels')\n",
    "            plt.legend()\n",
    "            \n",
    "    plt.show()\n",
    "            \n",
    "def show_diff(models, features, labels, on_one_plot=False):\n",
    "    if type(labels) is pd.DataFrame or type(labels) is pd.Series:\n",
    "        labels = labels.values\n",
    "    if type(features) != np.ndarray:\n",
    "        features = features.values\n",
    "    model_preds = [model.predict(features).reshape((-1, 1)) for model in models]\n",
    "    if on_one_plot:\n",
    "        plt.figure(figsize=(12, 4))\n",
    "        plt.plot(labels, label='Labels')\n",
    "        for i, pred in enumerate(model_preds):\n",
    "            plt.plot(pred, label=models[i].__class__.__name__)\n",
    "            plt.legend()\n",
    "    else:\n",
    "        plt.figure(figsize=(12, 4*len(models)))\n",
    "        for i, pred in enumerate(model_preds):\n",
    "            plt.subplot(len(models), 1, i+1)\n",
    "            plt.plot(pred, label=models[i].__class__.__name__)\n",
    "            plt.plot(labels, label='Labels')\n",
    "            plt.legend()\n",
    "            \n",
    "    plt.show()\n",
    "    \n",
    "def show_pred_diff(labels, pred_labels):\n",
    "    if isinstance(labels, (pd.DataFrame, pd.Series)):\n",
    "        labels = labels.copy().values.reshape(-1,)\n",
    "    if isinstance(pred_labels, (pd.DataFrame, pd.Series)):\n",
    "        pred_labels = pred_labels.copy().values.reshape(-1,)\n",
    "\n",
    "    sort_idx = np.argsort(labels)\n",
    "    labels.sort()\n",
    "    pred_labels = pred_labels[sort_idx]\n",
    "    plt.figure(figsize=(12, 4))\n",
    "    plt.plot(labels, label='y')\n",
    "    plt.plot(pred_labels, label='y_pred')\n",
    "    plt.legend()\n",
    "    plt.show()"
   ]
  },
  {
   "cell_type": "markdown",
   "metadata": {},
   "source": [
    "# Final validation framework"
   ]
  },
  {
   "cell_type": "code",
   "execution_count": 50,
   "metadata": {},
   "outputs": [],
   "source": [
    "def validation_framework(\n",
    "    models_1,\n",
    "    features,\n",
    "    labels,\n",
    "    loss_fn,\n",
    "    outlier_remove_method=None,\n",
    "    models_2=None,\n",
    "    k_fold_1=10,\n",
    "    k_fold_2=3,\n",
    "    holdout_rate=0.1,\n",
    "    tolerate_span=0.1,\n",
    "    ylim=(0, 0.5),\n",
    "    n_epochs_1=1,\n",
    "    n_epochs_2=1,\n",
    "    shuffle=True,\n",
    "    verbose=1\n",
    "):\n",
    "\n",
    "    features = pd.DataFrame(features, copy=True)\n",
    "    if type(labels) is pd.DataFrame:\n",
    "        labels = pd.DataFrame(labels, copy=True)\n",
    "    else:\n",
    "        labels = pd.Series(labels, copy=True)\n",
    "    \n",
    "    if verbose > 0:\n",
    "        print(\"Stage 1 - Without Holdout:\")\n",
    "    \n",
    "    if shuffle:\n",
    "        perm_index = np.random.permutation(features.index)\n",
    "        features = features.reindex(perm_index)\n",
    "        labels = labels.reindex(perm_index)\n",
    "   \n",
    "    models_1, cv_pred_1_without_holdout, info_1_without_holdout = cross_validate(\n",
    "        models_1, \n",
    "        features,\n",
    "        labels,\n",
    "        outlier_remove_method=outlier_remove_method,\n",
    "        loss=loss_fn,\n",
    "        k_fold=k_fold_1,\n",
    "        tolerate_span=tolerate_span,\n",
    "        verbose=verbose,\n",
    "        ylim=ylim,\n",
    "        n_epochs=n_epochs_1\n",
    "    )\n",
    "    \n",
    "    if models_1 is None:\n",
    "        return [None], None, {}\n",
    "    \n",
    "    if models_2 is not None:\n",
    "        models_2, _, info_2_without_holdout = cross_validate(\n",
    "            models_2, \n",
    "            cv_pred_1_without_holdout,\n",
    "            labels,\n",
    "            loss=loss_fn,\n",
    "            k_fold=k_fold_1,\n",
    "            tolerate_span=tolerate_span,\n",
    "            verbose=verbose,\n",
    "            ylim=ylim,\n",
    "            n_epochs=n_epochs_2\n",
    "        )\n",
    "        \n",
    "        if models_2 is None:\n",
    "            return [None], None, {}\n",
    "    \n",
    "    if verbose > 0:\n",
    "        print(\"\\nStage 2 - With Holdout:\")\n",
    "    \n",
    "    if shuffle:\n",
    "        perm_index = np.random.permutation(features.index)\n",
    "        features = features.reindex(perm_index)\n",
    "        labels = labels.reindex(perm_index)\n",
    "\n",
    "    models_1, cv_pred_with_holdout, info_1_with_holdout = cross_validate(\n",
    "        models_1,\n",
    "        features,\n",
    "        labels,\n",
    "        outlier_remove_method=outlier_remove_method,\n",
    "        holdout_rate=0,\n",
    "        loss=loss_fn,\n",
    "        k_fold=k_fold_2,\n",
    "        tolerate_span=tolerate_span,\n",
    "        verbose=verbose,\n",
    "        ylim=ylim,\n",
    "        n_epochs=n_epochs_1\n",
    "    )\n",
    "    \n",
    "    if models_1 is None:\n",
    "        return [None], None, {}\n",
    "    \n",
    "    if models_2 is not None:\n",
    "        models_2, _, info_2_with_holdout = cross_validate(\n",
    "            models_2, \n",
    "            cv_pred_with_holdout,\n",
    "            labels,\n",
    "            holdout_rate=0,\n",
    "            loss=loss_fn,\n",
    "            k_fold=k_fold_2,\n",
    "            tolerate_span=tolerate_span,\n",
    "            verbose=verbose,\n",
    "            ylim=ylim,\n",
    "            n_epochs=n_epochs_2\n",
    "        )\n",
    "        \n",
    "        if models_2 is None:\n",
    "            return [None], None, {}\n",
    "    \n",
    "    if verbose > 0:\n",
    "        show_dist(models_1, features, labels, on_one_plot=True if verbose == 1 else False)\n",
    "        if models_2 is not None:\n",
    "            show_dist(models_2, cv_pred_with_holdout, labels, on_one_plot=True if verbose == 1 else False)\n",
    "        \n",
    "        if type(labels) is pd.DataFrame:\n",
    "            sorted_index = labels.sort_values(by=\"SalePrice\").index\n",
    "        else:\n",
    "            sorted_index = labels.sort_values().index\n",
    "            \n",
    "        sorted_features = features.reindex(sorted_index)\n",
    "        sorted_labels = labels.reindex(sorted_index)\n",
    "#         sorted_cv_pred_with_holdout = pd.DataFrame(data=cv_pred_with_holdout, index=features.index)\n",
    "#         sorted_cv_pred_with_holdout = sorted_cv_pred_with_holdout.reindex(sorted_index)\n",
    "        \n",
    "        show_diff(models_1, sorted_features, sorted_labels.values, on_one_plot=True if verbose == 1 else False)\n",
    "#         if models_2 is not None:\n",
    "#             show_diff(models_2, sorted_cv_pred_with_holdout, sorted_labels.values, on_one_plot=True if verbose == 1 else False)\n",
    "    \n",
    "    if models_2 is not None:\n",
    "        info = {\"m1wo\":info_1_without_holdout, \"m2wo\":info_2_without_holdout,\n",
    "                \"m1\":info_1_with_holdout, \"m2\":info_2_with_holdout}\n",
    "    else:\n",
    "        info = {\"m1wo\":info_1_without_holdout, \"m1\":info_1_with_holdout}\n",
    "        \n",
    "    return models_1, models_2, info"
   ]
  },
  {
   "cell_type": "markdown",
   "metadata": {},
   "source": [
    "# Naive data processing "
   ]
  },
  {
   "cell_type": "code",
   "execution_count": 9,
   "metadata": {},
   "outputs": [],
   "source": [
    "def naive_data_process(features, labels):\n",
    "    new_features = pd.DataFrame(features, copy=True)\n",
    "    new_labels = np.log1p(pd.DataFrame(labels, copy=True))\n",
    "    for col_name in list(new_features):\n",
    "        if new_features[col_name].dtypes == np.object:\n",
    "            new_features[col_name] = new_features[col_name].fillna('NA')\n",
    "        else:\n",
    "            new_features[col_name] = new_features[col_name].fillna(new_features[col_name].mean())\n",
    "\n",
    "    new_features = pd.get_dummies(new_features)\n",
    "    \n",
    "    return new_features, new_labels\n",
    "\n",
    "train_features, train_labels = naive_data_process(raw_train_data.drop(columns=[\"SalePrice\"]), raw_train_data[\"SalePrice\"])"
   ]
  },
  {
   "cell_type": "markdown",
   "metadata": {},
   "source": [
    "# Explore the Data"
   ]
  },
  {
   "cell_type": "markdown",
   "metadata": {},
   "source": [
    "## Data Testing Tools"
   ]
  },
  {
   "cell_type": "code",
   "execution_count": 10,
   "metadata": {},
   "outputs": [],
   "source": [
    "def data_test_run(features, labels, outlier_method=None, verbose=3):\n",
    "    test_model1 = linear_model.Ridge()\n",
    "    test_model2 = ensemble.GradientBoostingRegressor()\n",
    "    test_model3 = ensemble.RandomForestRegressor()\n",
    "    test_model4 = XGBRegressor()\n",
    "    test_model5 = LGBMRegressor()\n",
    "    test_models = [test_model1, test_model2, test_model3, test_model4, test_model5]\n",
    "    \n",
    "    _, _, info = validation_framework(\n",
    "        models_1=test_models,\n",
    "        models_2=None,\n",
    "        features=features,\n",
    "        labels=labels,\n",
    "        loss_fn=rmse,\n",
    "        outlier_remove_method=outlier_method,\n",
    "        k_fold_1=10,\n",
    "        k_fold_2=10,\n",
    "        holdout_rate=0.17,\n",
    "        tolerate_span=0.1,\n",
    "        ylim=(0, 0.5),\n",
    "        n_epochs_1=1,\n",
    "        n_epochs_2=1,\n",
    "        verbose=verbose\n",
    "    )\n",
    "    return info\n",
    "\n",
    "def data_test_summary(features, labels, times=10, outlier_method=None, verbose=3):\n",
    "    assert times >= 1, 'Times must be larger than 0'\n",
    "    info = data_test_run(features, labels, outlier_method, verbose)\n",
    "    info_df = pd.DataFrame(info['m1wo'])\n",
    "    \n",
    "    for _ in range(times - 1):\n",
    "        info = data_test_run(features, labels, outlier_method, verbose)\n",
    "        info_df = info_df + pd.DataFrame(info['m1wo'])\n",
    "        \n",
    "    info_df = info_df / times\n",
    "    return info_df\n",
    "    "
   ]
  },
  {
   "cell_type": "markdown",
   "metadata": {},
   "source": [
    "## Fill missing data by hand"
   ]
  },
  {
   "cell_type": "markdown",
   "metadata": {},
   "source": [
    "- MiscFeature should be NA if missing\n",
    "- PoolQC should be NA, if no pool existed. Fence is the same. √\n",
    "- If GarageCars is 0, then GarageType, GarageFinish, GarageQual, GarageCond, shoule be NA √\n",
    "- If Fireplaces is 0, then FireplaceQu should be NA  √\n",
    "- If KitchenAbvGr is 0, then KitchenQual should be NA  √\n",
    "- BsmtFullBath, BsmtHalfBath should be 0, if BsmtQual BsmtCond BsmtExposure BsmtFinType1 BsmtFinType2 is NA  √\n",
    "- if BsmtFinSF1 BsmtFinSF2 is 0, BsmtQual BsmtCond BsmtExposure BsmtFinType1 BsmtFinType2 should be NA  √\n",
    "- MasVnrArea should be 0, if MasVnrType is None and vice versa.  √\n",
    "- Exterior1st Exterior2nd should be Oth\n",
    "- Utilities shoule be NA, if missing\n",
    "- Alley should be set NA?\n",
    "- if Alley is NA, then LotFrontage should be 0"
   ]
  },
  {
   "cell_type": "markdown",
   "metadata": {},
   "source": [
    "# Mature data processing"
   ]
  },
  {
   "cell_type": "code",
   "execution_count": 11,
   "metadata": {},
   "outputs": [],
   "source": [
    "def mature_data_process(features, labels=None, fn_list=[]):\n",
    "    new_features = pd.DataFrame(features, copy=True)\n",
    "    new_labels = pd.DataFrame(labels, copy=True)\n",
    "    for fn in fn_list:\n",
    "        new_features, new_labels = fn(new_features, features, new_labels)\n",
    "    \n",
    "    if labels is not None:\n",
    "        new_labels = np.log1p(new_labels)\n",
    "        return new_features, new_labels\n",
    "    \n",
    "    return new_features"
   ]
  },
  {
   "cell_type": "code",
   "execution_count": 12,
   "metadata": {},
   "outputs": [],
   "source": [
    "def fill_na_by_hand(features, *args):\n",
    "    features.loc[features['MiscFeature'].isnull(),'MiscFeature'] = 'NA'\n",
    "    features.loc[features['PoolArea']==0,'PoolQC'] = 'NA'\n",
    "    features.loc[features['Fence'].isnull(),'Fence'] = 'NA'\n",
    "    features.loc[features['GarageCars']==0, ['GarageType', 'GarageFinish', 'GarageQual', 'GarageCond']] = 'NA'\n",
    "    features.loc[features['Fireplaces']==0, 'FireplaceQu'] = 'NA'\n",
    "    features.loc[features['KitchenAbvGr']==0, 'KitchenQual'] = 'NA'\n",
    "    features.loc[\n",
    "        (features.loc[:,['BsmtQual', 'BsmtCond', 'BsmtExposure', 'BsmtFinType1', 'BsmtFinType2']]=='NA').sum(axis=1)>0,\n",
    "        ['BsmtFullBath', 'BsmtHalfBath']\n",
    "    ] = 0\n",
    "    features.loc[\n",
    "        (features.loc[:,['BsmtFinSF1', 'BsmtFinSF2']]==0).sum(axis=1)>0,\n",
    "        ['BsmtQual', 'BsmtCond', 'BsmtExposure', 'BsmtFinType1', 'BsmtFinType2']\n",
    "    ] = 'NA'\n",
    "    features.loc[features['MasVnrType']=='None', 'MasVnrArea'] = 0\n",
    "    features.loc[features['MasVnrArea']==0, 'MasVnrType'] = 'None'\n",
    "    features.loc[features['Exterior1st'].isnull(), 'Exterior1st'] = 'Oth'\n",
    "    features.loc[features['Exterior2nd'].isnull(), 'Exterior2nd'] = 'Oth'\n",
    "    features.loc[features['Utilities'].isnull(), 'Utilities'] = 'NA'\n",
    "    features.loc[features['Alley'].isnull(), 'Alley'] = 'NA'\n",
    "    features.loc[features['Alley']=='NA', 'LotFrontage'] = 0\n",
    "    return features, args[1]\n",
    "\n",
    "def drop_na_features(features, *args):\n",
    "    drop_col = []\n",
    "    for col_name in list(features):\n",
    "        missing_count = features[col_name].isnull().sum()\n",
    "        percentage = missing_count / len(features[col_name])\n",
    "        if percentage > 0.6 or missing_count > 1000:\n",
    "            drop_col.append(col_name)\n",
    "        elif percentage > 0:\n",
    "            if features[col_name].dtypes == np.object:\n",
    "                features[col_name] = features[col_name].fillna('NA')\n",
    "                if col_name == 'MasVnrArea':\n",
    "                    features.loc[features[col_name]=='None', col_name] = 'NA'\n",
    "            else:\n",
    "                features[col_name] = features[col_name].fillna(features[col_name].mean())\n",
    "    features.drop(columns=drop_col, inplace=True, errors='ignore')\n",
    "    return features, args[1]\n",
    "\n",
    "def fill_numeric(features, *args):\n",
    "    for col_name in features.select_dtypes(exclude=['object']).columns.tolist():\n",
    "        features[col_name] = features[col_name].fillna(features[col_name].mean())\n",
    "    return features, args[1]\n",
    "\n",
    "def rectify_skewness(features, *args):\n",
    "    quality_cols = {'GarageQual', 'GarageCond', 'PoolQC', 'FireplaceQu', 'KitchenQual', 'HeatingQC', 'BsmtQual', 'BsmtCond', 'ExterQual', 'ExterCond'}\n",
    "    quality_cols = quality_cols\n",
    "    for col_name in features.select_dtypes(exclude=['object']).columns.tolist():\n",
    "        if col_name not in quality_cols and features[col_name].skew() > 0.7:\n",
    "            features[col_name] = np.log1p(features[col_name])\n",
    "    return features, args[1]\n",
    "    \n",
    "def custom_drop(features, *args):\n",
    "    drop_set = {'MasVnrArea', 'KitchenAbvGr', 'MiscVal', 'YrSold', '3SsnPorch', 'BsmtHalfBath', 'BsmtFinSF2', 'LowQualFinSF', 'BsmtHalfBath'}\n",
    "    features.drop(columns=list(drop_set), inplace=True, errors='ignore')\n",
    "    return features, args[1]\n",
    "\n",
    "def indicate_quality(features, *args):\n",
    "    qualities = ['NA', 'Po', 'Fa', 'TA', 'Gd', 'Ex']\n",
    "    mapping = {qual:score for qual, score in zip(qualities, [*range(0, 6)])}\n",
    "    mapping[np.nan] = 0\n",
    "    quality_cols = {'GarageQual', 'GarageCond', 'PoolQC', 'FireplaceQu', 'KitchenQual', 'HeatingQC', 'BsmtQual', 'BsmtCond', 'ExterQual', 'ExterCond'}\n",
    "    quality_cols = quality_cols & set(features.columns.tolist())\n",
    "    for col_name in quality_cols:\n",
    "        features[col_name] = features[col_name].apply(lambda x:mapping[x])\n",
    "        \n",
    "    features['CentralAir'] = features['CentralAir'].map({'Y':1, 'N':0})\n",
    "    return features, args[1]\n",
    "\n",
    "def custom_cat_drop(features, *args):\n",
    "    categorical_drop = {'Condition2', 'RoofStyle','Electrical', 'Functional'}\n",
    "    features.drop(columns=categorical_drop, inplace=True, errors='ignore')\n",
    "    return features, args[1]\n",
    "\n",
    "def modify_year(features, *args):\n",
    "    year_cols = {'YearBuilt', 'YearRemodAdd', 'GarageYrBlt'}\n",
    "    for col_name in year_cols:\n",
    "        features[col_name] = 2018 - features[col_name]\n",
    "    return features, args[1]\n",
    "\n",
    "def add_YrRemodBeforeSold(features, *args):\n",
    "    ori_features = args[0]\n",
    "    features['YrRemodBeforeSold'] = ori_features['YrSold'] - ori_features['YearRemodAdd']\n",
    "    return features, args[1]\n",
    "\n",
    "def add_Season(features, *args):\n",
    "    season_dict = {1:1, 2:1, 3:1, 4:0, 5:0, 6:0, 7:3, 8:3, 9:3, 10:2, 11:2, 12:2}\n",
    "    features['SoldSeason'] = features['MoSold'].map(season_dict)\n",
    "    return features, args[1]\n",
    "    \n",
    "def add_NewerDwelling(features, *args):\n",
    "    ori_features = args[0]\n",
    "    features[\"NewerDwelling\"] = ori_features[\"MSSubClass\"].replace(\n",
    "    {20: 1, 30: 0, 40: 0, 45: 0,50: 0, 60: 1, 70: 0, 75: 0, 80: 0, 85: 0,\n",
    "     90: 0, 120: 1, 150: 0, 160: 0, 180: 0, 190: 0})\n",
    "    return features, args[1]\n",
    "\n",
    "def add_NrhdPriority(features, *args):\n",
    "    ori_features = args[0]\n",
    "    neighbor_bin_map = {\n",
    "        \"MeadowV\" : 0,  #  88000\n",
    "        \"IDOTRR\" : 1,   # 103000\n",
    "        \"BrDale\" : 1,   # 106000\n",
    "        \"OldTown\" : 1,  # 119000\n",
    "        \"Edwards\" : 1,  # 119500\n",
    "        \"BrkSide\" : 1,  # 124300\n",
    "        \"Sawyer\" : 1,   # 135000\n",
    "        \"Blueste\" : 1,  # 137500\n",
    "        \"SWISU\" : 2,    # 139500\n",
    "        \"NAmes\" : 2,    # 140000\n",
    "        \"NPkVill\" : 2,  # 146000\n",
    "        \"Mitchel\" : 2,  # 153500\n",
    "        \"SawyerW\" : 2,  # 179900\n",
    "        \"Gilbert\" : 2,  # 181000\n",
    "        \"NWAmes\" : 2,   # 182900\n",
    "        \"Blmngtn\" : 2,  # 191000\n",
    "        \"CollgCr\" : 2,  # 197200\n",
    "        \"ClearCr\" : 3,  # 200250\n",
    "        \"Crawfor\" : 3,  # 200624\n",
    "        \"Veenker\" : 3,  # 218000\n",
    "        \"Somerst\" : 3,  # 225500\n",
    "        \"Timber\" : 3,   # 228475\n",
    "        \"StoneBr\" : 4,  # 278000\n",
    "        \"NoRidge\" : 4,  # 290000\n",
    "        \"NridgHt\" : 4,  # 315000\n",
    "    }\n",
    "    features['NrhdPriority'] = ori_features['Neighborhood'].map(neighbor_bin_map)\n",
    "    return features, args[1]\n",
    "    \n",
    "def dummies(features, *args):\n",
    "    features['MSSubClass'] = features['MSSubClass'].apply(lambda x:str(x))\n",
    "    features['MoSold'] = features['MoSold'].apply(lambda x:str(x))\n",
    "    features = pd.get_dummies(features)\n",
    "    return features, args[1]\n",
    "\n",
    "def drop_id(features, *args):\n",
    "    features = features.drop(columns=[\"Id\"])\n",
    "    return features, args[1]\n",
    "\n",
    "def scale(features, *args):\n",
    "    features = pd.DataFrame(\n",
    "        columns=features.columns,\n",
    "        index=features.index,\n",
    "        data=preprocessing.MinMaxScaler().fit_transform(features.values)\n",
    "    )\n",
    "    return features, args[1]\n",
    "\n",
    "def denoising(features, *args):\n",
    "    iso = ensemble.IsolationForest(n_estimators=200, contamination=0.01)\n",
    "    iso.fit(features.values)\n",
    "    group_idx = iso.predict(features.values)\n",
    "    features = features.iloc[[idx != -1 for idx in group_idx]]\n",
    "    labels = args[1]\n",
    "    labels = labels.iloc[[idx != -1 for idx in group_idx[:len(labels)]]]\n",
    "    return features, labels\n"
   ]
  },
  {
   "cell_type": "code",
   "execution_count": 13,
   "metadata": {},
   "outputs": [],
   "source": [
    "fn_list = [drop_na_features, fill_numeric, rectify_skewness, custom_drop, indicate_quality, custom_cat_drop, dummies, drop_id, add_NewerDwelling, add_NrhdPriority, scale, denoising]#, modify_year, add_YrRemodBeforeSold, add_Season, , , \n"
   ]
  },
  {
   "cell_type": "markdown",
   "metadata": {},
   "source": [
    "Since only one version of data is necessary, I will make the best dataset as only"
   ]
  },
  {
   "cell_type": "raw",
   "metadata": {},
   "source": [
    "further_drop = {'MasVnrArea', 'ExterCond', 'BsmtCond', 'BsmtFinSF1', 'BsmtFinSF2', 'BsmtUnfSF', '2ndFlrSF', 'LowQualFinSF', 'BsmtHalfBath', 'KitchenAbvGr', 'GarageCars', 'GarageCond', 'WoodDeckSF', 'OpenPorchSF', 'EnclosedPorch', '3SsnPorch', 'ScreenPorch', 'PoolArea', 'MiscVal', 'MoSold', 'YrSold'}\n",
    "raw_train_data.corr().loc[list(further_drop), 'SalePrice']\n"
   ]
  },
  {
   "cell_type": "code",
   "execution_count": 14,
   "metadata": {},
   "outputs": [],
   "source": [
    "raw_features = raw_train_data.drop(columns=['SalePrice'])\n",
    "raw_labels = raw_train_data['SalePrice']\n",
    "\n",
    "features, labels = mature_data_process(raw_features, raw_labels, fn_list)"
   ]
  },
  {
   "cell_type": "code",
   "execution_count": 15,
   "metadata": {},
   "outputs": [
    {
     "data": {
      "text/plain": [
       "<seaborn.axisgrid.FacetGrid at 0x1a26431a58>"
      ]
     },
     "execution_count": 15,
     "metadata": {},
     "output_type": "execute_result"
    },
    {
     "data": {
      "image/png": "[encoded data removed]",
      "text/plain": [
       "<Figure size 360x360 with 1 Axes>"
      ]
     },
     "metadata": {},
     "output_type": "display_data"
    },
    {
     "data": {
      "image/png": "[encoded data removed]",
      "text/plain": [
       "<Figure size 360x360 with 1 Axes>"
      ]
     },
     "metadata": {},
     "output_type": "display_data"
    },
    {
     "data": {
      "image/png": "[encoded data removed]",
      "text/plain": [
       "<Figure size 360x360 with 1 Axes>"
      ]
     },
     "metadata": {},
     "output_type": "display_data"
    },
    {
     "data": {
      "image/png": "[encoded data removed]",
      "text/plain": [
       "<Figure size 360x360 with 1 Axes>"
      ]
     },
     "metadata": {},
     "output_type": "display_data"
    },
    {
     "data": {
      "image/png": "[encoded data removed]",
      "text/plain": [
       "<Figure size 360x360 with 1 Axes>"
      ]
     },
     "metadata": {},
     "output_type": "display_data"
    }
   ],
   "source": [
    "sns.lmplot('TotalBsmtSF', 'SalePrice', data=pd.concat([features, labels], axis=1))\n",
    "sns.lmplot('GrLivArea', 'SalePrice', data=pd.concat([features, labels], axis=1))\n",
    "sns.lmplot('LotArea', 'SalePrice', data=pd.concat([features, labels], axis=1))\n",
    "sns.lmplot('YearBuilt', 'SalePrice', data=pd.concat([features, labels], axis=1))\n",
    "sns.lmplot('YearRemodAdd', 'SalePrice', data=pd.concat([features, labels], axis=1))"
   ]
  },
  {
   "cell_type": "markdown",
   "metadata": {},
   "source": [
    "## Validate the dataset"
   ]
  },
  {
   "cell_type": "code",
   "execution_count": 386,
   "metadata": {
    "scrolled": true
   },
   "outputs": [
    {
     "data": {
      "application/vnd.jupyter.widget-view+json": {
       "model_id": "6e342983413048e082b3e6913bb53e48",
       "version_major": 2,
       "version_minor": 0
      },
      "text/plain": [
       "HBox(children=(IntProgress(value=0, max=5), HTML(value='')))"
      ]
     },
     "metadata": {},
     "output_type": "display_data"
    },
    {
     "data": {
      "application/vnd.jupyter.widget-view+json": {
       "model_id": "22fca4c5768c4ae4af60c626c5ccf091",
       "version_major": 2,
       "version_minor": 0
      },
      "text/plain": [
       "HBox(children=(IntProgress(value=0, max=5), HTML(value='')))"
      ]
     },
     "metadata": {},
     "output_type": "display_data"
    },
    {
     "data": {
      "application/vnd.jupyter.widget-view+json": {
       "model_id": "c6f1f51aaccc4acaaf2d0d7029633ee4",
       "version_major": 2,
       "version_minor": 0
      },
      "text/plain": [
       "HBox(children=(IntProgress(value=0, max=5), HTML(value='')))"
      ]
     },
     "metadata": {},
     "output_type": "display_data"
    },
    {
     "data": {
      "application/vnd.jupyter.widget-view+json": {
       "model_id": "0790c73789ad4a4792286c317e0930a9",
       "version_major": 2,
       "version_minor": 0
      },
      "text/plain": [
       "HBox(children=(IntProgress(value=0, max=5), HTML(value='')))"
      ]
     },
     "metadata": {},
     "output_type": "display_data"
    },
    {
     "data": {
      "application/vnd.jupyter.widget-view+json": {
       "model_id": "23c5a6d567f049d9ac5ef1bd562ea85c",
       "version_major": 2,
       "version_minor": 0
      },
      "text/plain": [
       "HBox(children=(IntProgress(value=0, max=5), HTML(value='')))"
      ]
     },
     "metadata": {},
     "output_type": "display_data"
    },
    {
     "data": {
      "application/vnd.jupyter.widget-view+json": {
       "model_id": "5b328d900fb649a8b90ee5b4932b63a4",
       "version_major": 2,
       "version_minor": 0
      },
      "text/plain": [
       "HBox(children=(IntProgress(value=0, max=5), HTML(value='')))"
      ]
     },
     "metadata": {},
     "output_type": "display_data"
    },
    {
     "data": {
      "application/vnd.jupyter.widget-view+json": {
       "model_id": "10200beb4671493b98e6e3b1b19039d4",
       "version_major": 2,
       "version_minor": 0
      },
      "text/plain": [
       "HBox(children=(IntProgress(value=0, max=5), HTML(value='')))"
      ]
     },
     "metadata": {},
     "output_type": "display_data"
    },
    {
     "data": {
      "application/vnd.jupyter.widget-view+json": {
       "model_id": "7109d6869f94424bb649a3959576063a",
       "version_major": 2,
       "version_minor": 0
      },
      "text/plain": [
       "HBox(children=(IntProgress(value=0, max=5), HTML(value='')))"
      ]
     },
     "metadata": {},
     "output_type": "display_data"
    },
    {
     "data": {
      "application/vnd.jupyter.widget-view+json": {
       "model_id": "0623311cd0aa4e9b9c2ac0a7b499cb56",
       "version_major": 2,
       "version_minor": 0
      },
      "text/plain": [
       "HBox(children=(IntProgress(value=0, max=5), HTML(value='')))"
      ]
     },
     "metadata": {},
     "output_type": "display_data"
    },
    {
     "data": {
      "application/vnd.jupyter.widget-view+json": {
       "model_id": "3599803c91da49d39bbf4bdba8797867",
       "version_major": 2,
       "version_minor": 0
      },
      "text/plain": [
       "HBox(children=(IntProgress(value=0, max=5), HTML(value='')))"
      ]
     },
     "metadata": {},
     "output_type": "display_data"
    },
    {
     "data": {
      "application/vnd.jupyter.widget-view+json": {
       "model_id": "7700cf5e486647cfbb303d4ce183a933",
       "version_major": 2,
       "version_minor": 0
      },
      "text/plain": [
       "HBox(children=(IntProgress(value=0, max=5), HTML(value='')))"
      ]
     },
     "metadata": {},
     "output_type": "display_data"
    },
    {
     "data": {
      "application/vnd.jupyter.widget-view+json": {
       "model_id": "c98d1b8f6dc34905bb21803ab24110be",
       "version_major": 2,
       "version_minor": 0
      },
      "text/plain": [
       "HBox(children=(IntProgress(value=0, max=5), HTML(value='')))"
      ]
     },
     "metadata": {},
     "output_type": "display_data"
    },
    {
     "data": {
      "application/vnd.jupyter.widget-view+json": {
       "model_id": "be25f56fde5e4ae6a636085c70cfe21a",
       "version_major": 2,
       "version_minor": 0
      },
      "text/plain": [
       "HBox(children=(IntProgress(value=0, max=5), HTML(value='')))"
      ]
     },
     "metadata": {},
     "output_type": "display_data"
    },
    {
     "data": {
      "application/vnd.jupyter.widget-view+json": {
       "model_id": "cedc310879ff401885f5f391adf3a860",
       "version_major": 2,
       "version_minor": 0
      },
      "text/plain": [
       "HBox(children=(IntProgress(value=0, max=5), HTML(value='')))"
      ]
     },
     "metadata": {},
     "output_type": "display_data"
    },
    {
     "data": {
      "application/vnd.jupyter.widget-view+json": {
       "model_id": "a3240071afe149aaab29b2f696fff933",
       "version_major": 2,
       "version_minor": 0
      },
      "text/plain": [
       "HBox(children=(IntProgress(value=0, max=5), HTML(value='')))"
      ]
     },
     "metadata": {},
     "output_type": "display_data"
    },
    {
     "data": {
      "application/vnd.jupyter.widget-view+json": {
       "model_id": "ce0a5eb623ba4e3cb2ff1d6d0b69cb15",
       "version_major": 2,
       "version_minor": 0
      },
      "text/plain": [
       "HBox(children=(IntProgress(value=0, max=5), HTML(value='')))"
      ]
     },
     "metadata": {},
     "output_type": "display_data"
    },
    {
     "data": {
      "application/vnd.jupyter.widget-view+json": {
       "model_id": "f78ba30cb19c4911b2480b58b934efdd",
       "version_major": 2,
       "version_minor": 0
      },
      "text/plain": [
       "HBox(children=(IntProgress(value=0, max=5), HTML(value='')))"
      ]
     },
     "metadata": {},
     "output_type": "display_data"
    },
    {
     "data": {
      "application/vnd.jupyter.widget-view+json": {
       "model_id": "1e2d8976d49547798ada70a4859de8c3",
       "version_major": 2,
       "version_minor": 0
      },
      "text/plain": [
       "HBox(children=(IntProgress(value=0, max=5), HTML(value='')))"
      ]
     },
     "metadata": {},
     "output_type": "display_data"
    },
    {
     "data": {
      "application/vnd.jupyter.widget-view+json": {
       "model_id": "4d60e78937b24c968b40295a58cbb134",
       "version_major": 2,
       "version_minor": 0
      },
      "text/plain": [
       "HBox(children=(IntProgress(value=0, max=5), HTML(value='')))"
      ]
     },
     "metadata": {},
     "output_type": "display_data"
    },
    {
     "data": {
      "application/vnd.jupyter.widget-view+json": {
       "model_id": "ff7cb9b778cb4a57acb3aa836117e45a",
       "version_major": 2,
       "version_minor": 0
      },
      "text/plain": [
       "HBox(children=(IntProgress(value=0, max=5), HTML(value='')))"
      ]
     },
     "metadata": {},
     "output_type": "display_data"
    }
   ],
   "source": [
    "info_df = data_test_summary(features, labels, 10, outlier_method=None, verbose=0)"
   ]
  },
  {
   "cell_type": "code",
   "execution_count": 381,
   "metadata": {},
   "outputs": [
    {
     "data": {
      "text/html": [
       "<div>\n",
       "<style scoped>\n",
       "    .dataframe tbody tr th:only-of-type {\n",
       "        vertical-align: middle;\n",
       "    }\n",
       "\n",
       "    .dataframe tbody tr th {\n",
       "        vertical-align: top;\n",
       "    }\n",
       "\n",
       "    .dataframe thead th {\n",
       "        text-align: right;\n",
       "    }\n",
       "</style>\n",
       "<table border=\"1\" class=\"dataframe\">\n",
       "  <thead>\n",
       "    <tr style=\"text-align: right;\">\n",
       "      <th></th>\n",
       "      <th>0</th>\n",
       "      <th>1</th>\n",
       "      <th>2</th>\n",
       "      <th>3</th>\n",
       "      <th>4</th>\n",
       "    </tr>\n",
       "  </thead>\n",
       "  <tbody>\n",
       "    <tr>\n",
       "      <th>cv</th>\n",
       "      <td>0.427666</td>\n",
       "      <td>0.413608</td>\n",
       "      <td>0.431132</td>\n",
       "      <td>0.409180</td>\n",
       "      <td>0.433394</td>\n",
       "    </tr>\n",
       "    <tr>\n",
       "      <th>holdout</th>\n",
       "      <td>0.119614</td>\n",
       "      <td>0.126920</td>\n",
       "      <td>0.147005</td>\n",
       "      <td>0.132527</td>\n",
       "      <td>0.129607</td>\n",
       "    </tr>\n",
       "    <tr>\n",
       "      <th>train</th>\n",
       "      <td>0.396602</td>\n",
       "      <td>0.405555</td>\n",
       "      <td>0.456593</td>\n",
       "      <td>0.394823</td>\n",
       "      <td>0.470613</td>\n",
       "    </tr>\n",
       "  </tbody>\n",
       "</table>\n",
       "</div>"
      ],
      "text/plain": [
       "                0         1         2         3         4\n",
       "cv       0.427666  0.413608  0.431132  0.409180  0.433394\n",
       "holdout  0.119614  0.126920  0.147005  0.132527  0.129607\n",
       "train    0.396602  0.405555  0.456593  0.394823  0.470613"
      ]
     },
     "execution_count": 381,
     "metadata": {},
     "output_type": "execute_result"
    }
   ],
   "source": [
    "info_df"
   ]
  },
  {
   "cell_type": "markdown",
   "metadata": {},
   "source": [
    "# Find important features"
   ]
  },
  {
   "cell_type": "code",
   "execution_count": 16,
   "metadata": {
    "scrolled": false
   },
   "outputs": [],
   "source": [
    "def important_features(models, features, labels, verbose=0):\n",
    "    if len(features) > len(labels):\n",
    "        features = features[:len(labels)]\n",
    "        \n",
    "    if type(models) is not list:\n",
    "        models = [models]\n",
    "    \n",
    "    info_df = None\n",
    "    \n",
    "    for model in models:\n",
    "        [model], _, _ = validation_framework(\n",
    "            [model],\n",
    "            features=features,\n",
    "            labels=labels,\n",
    "            loss_fn=rmse,\n",
    "            models_2=None,\n",
    "            k_fold_1=10,\n",
    "            k_fold_2=10,\n",
    "            holdout_rate=0.1,\n",
    "            tolerate_span=0.1,\n",
    "            ylim=(0, 0.5),\n",
    "            n_epochs_1=1,\n",
    "            n_epochs_2=1,\n",
    "            verbose=verbose\n",
    "        )\n",
    "        \n",
    "        importance = pd.DataFrame(\n",
    "            data=model.feature_importances_,\n",
    "            index=features.columns,\n",
    "            columns=['weight_{}'.format(model.__class__.__name__)]\n",
    "        ).sort_values(by='weight_{}'.format(model.__class__.__name__), ascending=False)\n",
    "        \n",
    "        importance['features_{}'.format(model.__class__.__name__)] = importance.index\n",
    "        importance.index = [*range(len(importance))]\n",
    "        if info_df is None:\n",
    "            info_df = importance\n",
    "        else:\n",
    "            info_df = pd.concat([info_df, importance], axis=1)\n",
    "            \n",
    "    return info_df"
   ]
  },
  {
   "cell_type": "code",
   "execution_count": 422,
   "metadata": {},
   "outputs": [
    {
     "data": {
      "application/vnd.jupyter.widget-view+json": {
       "model_id": "4b9a06956a2a42bfa734c14b6040b1be",
       "version_major": 2,
       "version_minor": 0
      },
      "text/plain": [
       "HBox(children=(IntProgress(value=0, max=1), HTML(value='')))"
      ]
     },
     "metadata": {},
     "output_type": "display_data"
    },
    {
     "data": {
      "application/vnd.jupyter.widget-view+json": {
       "model_id": "368dfafedcd3425f8ba6cbe83ee9674b",
       "version_major": 2,
       "version_minor": 0
      },
      "text/plain": [
       "HBox(children=(IntProgress(value=0, max=1), HTML(value='')))"
      ]
     },
     "metadata": {},
     "output_type": "display_data"
    },
    {
     "data": {
      "application/vnd.jupyter.widget-view+json": {
       "model_id": "53eeee6914854a08a957b6ee4c586028",
       "version_major": 2,
       "version_minor": 0
      },
      "text/plain": [
       "HBox(children=(IntProgress(value=0, max=1), HTML(value='')))"
      ]
     },
     "metadata": {},
     "output_type": "display_data"
    },
    {
     "data": {
      "application/vnd.jupyter.widget-view+json": {
       "model_id": "a71b6ae624844cbeb29bd1b2e9226996",
       "version_major": 2,
       "version_minor": 0
      },
      "text/plain": [
       "HBox(children=(IntProgress(value=0, max=1), HTML(value='')))"
      ]
     },
     "metadata": {},
     "output_type": "display_data"
    }
   ],
   "source": [
    "models = [ensemble.RandomForestRegressor(), ensemble.GradientBoostingRegressor()]\n",
    "info_df = important_features(models, features, labels)"
   ]
  },
  {
   "cell_type": "code",
   "execution_count": 436,
   "metadata": {},
   "outputs": [
    {
     "data": {
      "text/plain": [
       "<matplotlib.axes._subplots.AxesSubplot at 0x1a2bc9de48>"
      ]
     },
     "execution_count": 436,
     "metadata": {},
     "output_type": "execute_result"
    },
    {
     "data": {
      "image/png": "[encoded data removed]",
      "text/plain": [
       "<Figure size 432x288 with 1 Axes>"
      ]
     },
     "metadata": {},
     "output_type": "display_data"
    }
   ],
   "source": [
    "sns.distplot(labels)"
   ]
  },
  {
   "cell_type": "markdown",
   "metadata": {},
   "source": [
    "# Neural Network"
   ]
  },
  {
   "cell_type": "code",
   "execution_count": 17,
   "metadata": {},
   "outputs": [],
   "source": [
    "class NeuralNetwork:\n",
    "    def __init__(self, learning_rate=0.0001, decay=1e-5, l1_reg=0, l2_reg=0, dropout=0.1, n_epochs=200, verbose=0, batch_size=1):\n",
    "        self.lr = learning_rate\n",
    "        self.decay = decay\n",
    "        self.n_epochs = n_epochs\n",
    "        self.model = Sequential()\n",
    "        self.first_fit = True\n",
    "        self.verbose = verbose\n",
    "        self.batch_size = batch_size\n",
    "        self.dropout = dropout\n",
    "        self.l1_reg = l1_reg\n",
    "        self.l2_reg = l2_reg\n",
    "        \n",
    "    def fit(self, features, labels):\n",
    "        if self.first_fit:\n",
    "            if isinstance(features, pd.DataFrame):\n",
    "                features = features.values\n",
    "            optimizer = optimizers.Adam(lr=self.lr, beta_1=0.9, beta_2=0.999, epsilon=None, decay=self.decay, amsgrad=False)\n",
    "            self.model = Sequential() \n",
    "            self.l1 = Dense(units=128, \n",
    "                            input_dim=features.shape[1],\n",
    "                            activation='tanh',\n",
    "                            kernel_regularizer=regularizers.l1(self.l1_reg) if self.l1_reg > self.l2_reg else regularizers.l2(self.l2_reg))\n",
    "            self.l2 = Dense(units=64,\n",
    "                            activation='tanh',\n",
    "                            kernel_regularizer=regularizers.l1(self.l1_reg) if self.l1_reg > self.l2_reg else regularizers.l2(self.l2_reg))\n",
    "            self.l3 = Dense(units=1, activation='relu')\n",
    "            self.model.add(GaussianDropout(self.dropout))\n",
    "            self.model.add(self.l1)\n",
    "            self.model.add(GaussianDropout(self.dropout))\n",
    "            self.model.add(self.l2)\n",
    "            self.model.add(self.l3)\n",
    "            self.model.compile(loss='mean_squared_error', optimizer=optimizer)\n",
    "            self.first_fit = False\n",
    "            \n",
    "        self.model.fit(features, labels, epochs=self.n_epochs, batch_size=self.batch_size, verbose=self.verbose)\n",
    "        \n",
    "    def predict(self, features):\n",
    "        return self.model.predict(features)\n",
    "    \n",
    "    def get_params(self):\n",
    "        return [self.l1, self.l2, self.l3]"
   ]
  },
  {
   "cell_type": "markdown",
   "metadata": {},
   "source": [
    "# Tuning by hand"
   ]
  },
  {
   "cell_type": "markdown",
   "metadata": {},
   "source": [
    "## Hypothesis:\n",
    "1. If same model outperforms on one dataset than another dataset, we can assume this dataset is better than the other, which, I think, should be a unified rule"
   ]
  },
  {
   "cell_type": "code",
   "execution_count": 210,
   "metadata": {
    "scrolled": true
   },
   "outputs": [
    {
     "name": "stdout",
     "output_type": "stream",
     "text": [
      "Stage 1 - Without Holdout:\n"
     ]
    },
    {
     "data": {
      "application/vnd.jupyter.widget-view+json": {
       "model_id": "440036feaadf448d86bbf2fff0d5388a",
       "version_major": 2,
       "version_minor": 0
      },
      "text/plain": [
       "HBox(children=(IntProgress(value=0, max=1), HTML(value='')))"
      ]
     },
     "metadata": {},
     "output_type": "display_data"
    },
    {
     "name": "stdout",
     "output_type": "stream",
     "text": [
      "Ep0|SVR (1/10) validation rmse: 0.1268227361772928\n",
      "Ep0|SVR (2/10) validation rmse: 0.12409571676777881\n",
      "Ep0|SVR (3/10) validation rmse: 0.10624573625183936\n",
      "Ep0|SVR (4/10) validation rmse: 0.10883415673797381\n",
      "Ep0|SVR (5/10) validation rmse: 0.12365881906550678\n",
      "Ep0|SVR (6/10) validation rmse: 0.10602571693465247\n",
      "Ep0|SVR (7/10) validation rmse: 0.13765650057090884\n",
      "Ep0|SVR (8/10) validation rmse: 0.08199005869022158\n",
      "Ep0|SVR (9/10) validation rmse: 0.12798059161400882\n",
      "Ep0|SVR (10/10) validation rmse: 0.13152752341995316\n",
      "SVR Train data average rmse: 0.11659522153189665\n",
      "SVR Holdout rmse: 0.099619875359436\n"
     ]
    },
    {
     "data": {
      "image/png": "[encoded data removed]",
      "text/plain": [
       "<Figure size 432x288 with 1 Axes>"
      ]
     },
     "metadata": {},
     "output_type": "display_data"
    },
    {
     "name": "stdout",
     "output_type": "stream",
     "text": [
      "\n",
      "Stage 2 - With Holdout:\n"
     ]
    },
    {
     "data": {
      "application/vnd.jupyter.widget-view+json": {
       "model_id": "472f98b302754aa78377fdd72cf5f268",
       "version_major": 2,
       "version_minor": 0
      },
      "text/plain": [
       "HBox(children=(IntProgress(value=0, max=1), HTML(value='')))"
      ]
     },
     "metadata": {},
     "output_type": "display_data"
    },
    {
     "name": "stdout",
     "output_type": "stream",
     "text": [
      "Ep0|SVR (1/3) validation rmse: 0.10817290946467183\n",
      "Ep0|SVR (2/3) validation rmse: 0.12935980458717622\n",
      "Ep0|SVR (3/3) validation rmse: 0.12007645358446169\n",
      "SVR Train data average rmse: 0.11772248954143201\n"
     ]
    },
    {
     "data": {
      "image/png": "[encoded data removed]",
      "text/plain": [
       "<Figure size 432x288 with 1 Axes>"
      ]
     },
     "metadata": {},
     "output_type": "display_data"
    },
    {
     "data": {
      "image/png": "[encoded data removed]",
      "text/plain": [
       "<Figure size 864x288 with 1 Axes>"
      ]
     },
     "metadata": {},
     "output_type": "display_data"
    },
    {
     "data": {
      "image/png": "[encoded data removed]",
      "text/plain": [
       "<Figure size 864x288 with 1 Axes>"
      ]
     },
     "metadata": {},
     "output_type": "display_data"
    }
   ],
   "source": [
    "cur_model = svm.SVR(\n",
    "    kernel='rbf', \n",
    "    #degree=2, \n",
    "    gamma=0.005,\n",
    "    #coef0=0.01,\n",
    "    tol=0.0001, \n",
    "    C=2.0, \n",
    "    epsilon=0.01, \n",
    "    shrinking=True,\n",
    "    cache_size=200, \n",
    "    verbose=False,\n",
    "    max_iter=-1)\n",
    "\n",
    "cur_model, _, info = validation_framework(\n",
    "    models_1=cur_model,\n",
    "    features=features,\n",
    "    labels=labels,\n",
    "    loss_fn=rmse,\n",
    "    outlier_remove_method=ensemble.IsolationForest(n_estimators=100, contamination=0.05),\n",
    "    models_2=None,\n",
    "    k_fold_1=10,\n",
    "    k_fold_2=3,\n",
    "    holdout_rate=0.2,\n",
    "    tolerate_span=0.1,\n",
    "    ylim=(0, 0.5),\n",
    "    n_epochs_1=1,\n",
    "    n_epochs_2=1,\n",
    "    shuffle=False,\n",
    "    verbose=2\n",
    ")"
   ]
  },
  {
   "cell_type": "code",
   "execution_count": 211,
   "metadata": {},
   "outputs": [],
   "source": [
    "save(cur_model, 'svr_holdout0.099')"
   ]
  },
  {
   "cell_type": "markdown",
   "metadata": {},
   "source": [
    "# Conclusion\n",
    "\n",
    "\n",
    "## Best parameter and coordinate dataset\n",
    "\n",
    "ensemble.RandomForestRegressor(\n",
    "    n_estimators=1000, \n",
    "    criterion='mse',\n",
    "    min_samples_split=10,\n",
    "    min_samples_leaf=1, \n",
    "    min_weight_fraction_leaf=0.0, \n",
    "    max_features=0.3, \n",
    "    max_leaf_nodes=None,\n",
    "    min_impurity_decrease=0.00001, \n",
    "    min_impurity_split=None, \n",
    "    bootstrap=True,\n",
    "    oob_score=False, \n",
    "    n_jobs=-1, \n",
    "    random_state=None, \n",
    "    verbose=0,\n",
    "    warm_start=False\n",
    ")\n",
    "\n",
    "ensemble.GradientBoostingRegressor(\n",
    "    loss='ls', \n",
    "    learning_rate=0.01,\n",
    "    n_estimators=500, \n",
    "    subsample=0.5, \n",
    "    criterion='friedman_mse', \n",
    "    min_samples_split=15,\n",
    "    min_samples_leaf=2,\n",
    "    min_weight_fraction_leaf=0.0,\n",
    "    max_depth=10, \n",
    "    min_impurity_decrease=0.0001,\n",
    "    min_impurity_split=None, \n",
    "    init=None, \n",
    "    random_state=None, \n",
    "    max_features=0.1, \n",
    "    alpha=0.9, \n",
    "    verbose=0, \n",
    "    max_leaf_nodes=None, \n",
    "    warm_start=False, \n",
    "    presort='auto')\n",
    "\n",
    "XGBRegressor(\n",
    "    max_depth=3, \n",
    "    learning_rate=0.1,\n",
    "    n_estimators=500, \n",
    "    silent=True, \n",
    "    objective='reg:linear',\n",
    "    booster='gbtree',\n",
    "    n_jobs=-1, \n",
    "    nthread=None, \n",
    "    gamma=0.00001, \n",
    "    min_child_weight=1,\n",
    "    max_delta_step=0, \n",
    "    subsample=1,\n",
    "    colsample_bytree=0.6,\n",
    "    colsample_bylevel=0.8, \n",
    "    reg_alpha=0.2,\n",
    "    reg_lambda=0.2, \n",
    "    scale_pos_weight=1, \n",
    "    base_score=0.5, \n",
    "    random_state=0,\n",
    "    seed=None, \n",
    "    missing=None)\n",
    "\n",
    "LGBMRegressor(\n",
    "    boosting_type='gbdt', \n",
    "    num_leaves=31, \n",
    "    max_depth=-1, \n",
    "    learning_rate=0.01,\n",
    "    n_estimators=500, \n",
    "    max_bin=200,\n",
    "    subsample_for_bin=50000,\n",
    "    objective='regression', \n",
    "    min_split_gain=0.001, \n",
    "    min_child_weight=5, \n",
    "    min_child_samples=10, \n",
    "    subsample=0.8, \n",
    "    subsample_freq=1, \n",
    "    colsample_bytree=0.5,\n",
    "    reg_alpha=0.1,\n",
    "    reg_lambda=0.1,\n",
    "    seed=0, \n",
    "    nthread=-1,\n",
    "    silent=True, \n",
    "    huber_delta=1.0,\n",
    "    gaussian_eta=1.0,\n",
    "    fair_c=1.0, \n",
    "    poisson_max_delta_step=0.7, \n",
    "    drop_rate=0.1,\n",
    "    skip_drop=0.5, \n",
    "    max_drop=50, \n",
    "    uniform_drop=False, \n",
    "    xgboost_dart_mode=False)\n",
    "\n",
    "~~CatBoostRegressor(iterations=1000, learning_rate=1, depth=2)~~\n",
    "\n",
    "linear_model.BayesianRidge(\n",
    "    n_iter=500, \n",
    "    tol=0.0001, \n",
    "    alpha_1=1e-04,\n",
    "    alpha_2=1e-04, \n",
    "    lambda_1=1e-04,\n",
    "    lambda_2=1e-04, \n",
    "    compute_score=True,\n",
    "    fit_intercept=True, \n",
    "    normalize=True, \n",
    "    copy_X=True,\n",
    "    verbose=False)\n",
    "\n",
    "linear_model.ARDRegression(\n",
    "    n_iter=300, \n",
    "    tol=0.001, \n",
    "    alpha_1=1e-05,\n",
    "    alpha_2=1e-05, \n",
    "    lambda_1=1e-05,\n",
    "    lambda_2=1e-05, \n",
    "    compute_score=False, \n",
    "    threshold_lambda=10000.0, \n",
    "    fit_intercept=True,\n",
    "    normalize=False, \n",
    "    copy_X=True, \n",
    "    verbose=False)\n",
    "\n",
    "linear_model.Ridge(\n",
    "    alpha=1.0,\n",
    "    fit_intercept=True,\n",
    "    normalize=False, \n",
    "    copy_X=True, \n",
    "    max_iter=10000, \n",
    "    tol=0.0001, \n",
    "    solver='sparse_cg',\n",
    "    random_state=None)\n",
    "\n",
    "svm.SVR(\n",
    "    kernel='rbf', \n",
    "    gamma=0.005,\n",
    "    tol=0.0001, \n",
    "    C=2.0, \n",
    "    epsilon=0.01, \n",
    "    shrinking=True,\n",
    "    cache_size=200, \n",
    "    verbose=False,\n",
    "    max_iter=-1)\n",
    "\n",
    "NeuralNetwork(learning_rate=0.0001, decay=4e-5, l2_reg=0.0006, dropout=0.03, n_epochs=50, verbose=1, batch_size=5) "
   ]
  },
  {
   "cell_type": "markdown",
   "metadata": {},
   "source": [
    "# Final"
   ]
  },
  {
   "cell_type": "code",
   "execution_count": 217,
   "metadata": {},
   "outputs": [],
   "source": [
    "def gen_models(model_type):\n",
    "    if model_type == 'ARDRegression':\n",
    "        model_proto = linear_model.ARDRegression\n",
    "        param = { 'n_iter':300, 'tol':0.001, 'alpha_1':1e-05, 'alpha_2':1e-05, 'lambda_1':1e-05, 'lambda_2':1e-05, 'compute_score':False, 'threshold_lambda':10000.0, 'fit_intercept':True, 'normalize':False, 'copy_X':True, 'verbose':False}\n",
    "        \n",
    "    elif model_type == 'BayesianRidge':\n",
    "        model_proto = linear_model.BayesianRidge\n",
    "        param = { 'n_iter':500, 'tol':0.0001, 'alpha_1':1e-04, 'alpha_2':1e-04, 'lambda_1':1e-04, 'lambda_2':1e-04, 'compute_score':True, 'fit_intercept':True, 'normalize':True, 'copy_X':True, 'verbose':False}\n",
    "        \n",
    "    elif model_type == 'Ridge':\n",
    "        model_proto = linear_model.Ridge\n",
    "        param = { 'alpha':1.0, 'fit_intercept':True, 'normalize':False, 'copy_X':True, 'max_iter':10000, 'tol':0.0001, 'solver':'sparse_cg', 'random_state':None}\n",
    "        \n",
    "    elif model_type == 'RandomForestRegressor':\n",
    "        model_proto = ensemble.RandomForestRegressor\n",
    "        param = { 'n_estimators':1000, 'criterion':'mse',  'min_samples_split':10, 'min_samples_leaf':1, 'min_weight_fraction_leaf':0.0, 'max_features':0.3, 'max_leaf_nodes':None, 'min_impurity_decrease':0.00001, 'min_impurity_split':None, 'bootstrap':True, 'oob_score':False, 'n_jobs':-1, 'random_state':None, 'verbose':0, 'warm_start':False } \n",
    "\n",
    "    elif model_type == 'GradientBoostingRegressor':\n",
    "        model_proto = ensemble.GradientBoostingRegressor\n",
    "        param = { 'loss':'ls', 'learning_rate':0.01, 'n_estimators':500, 'subsample':0.5, 'criterion':'friedman_mse', 'min_samples_split':15, 'min_samples_leaf':2, 'min_weight_fraction_leaf':0.0, 'max_depth':10, 'min_impurity_decrease':0.0001, 'min_impurity_split':None, 'init':None, 'random_state':None, 'max_features':0.1, 'alpha':0.9, 'verbose':0, 'max_leaf_nodes':None, 'warm_start':False, 'presort':'auto'}\n",
    "        \n",
    "    elif model_type == 'XGBRegressor':\n",
    "        model_proto = XGBRegressor\n",
    "        param = { 'max_depth':3, 'learning_rate':0.1, 'n_estimators':500, 'silent':True, 'objective':'reg:linear', 'booster':'gbtree', 'n_jobs':-1, 'nthread':None, 'gamma':0.00001, 'min_child_weight':1, 'max_delta_step':0, 'subsample':1, 'colsample_bytree':0.6, 'colsample_bylevel':0.8, 'reg_alpha':0.2, 'reg_lambda':0.2, 'scale_pos_weight':1, 'base_score':0.5, 'random_state':0, 'seed':None, 'missing':None}\n",
    "        \n",
    "    elif model_type == 'LGBMRegressor':\n",
    "        model_proto = LGBMRegressor\n",
    "        param = { 'boosting_type':'gbdt', 'num_leaves':31, 'max_depth':-1, 'learning_rate':0.01, 'n_estimators':500, 'max_bin':200, 'subsample_for_bin':50000, 'objective':'regression', 'min_split_gain':0.001, 'min_child_weight':5, 'min_child_samples':10, 'subsample':0.8, 'subsample_freq':1, 'colsample_bytree':0.5, 'reg_alpha':0.1, 'reg_lambda':0.1, 'seed':0, 'nthread':-1, 'silent':True, 'huber_delta':1.0, 'gaussian_eta':1.0, 'fair_c':1.0, 'poisson_max_delta_step':0.7, 'drop_rate':0.1, 'skip_drop':0.5, 'max_drop':50, 'uniform_drop':False, 'xgboost_dart_mode':False} \n",
    "        \n",
    "#     elif model_type == 'CatBoostRegressor':\n",
    "#         model_proto = CatBoostRegressor\n",
    "#         param = {'iterations':1000, 'learning_rate':1, 'depth':2}\n",
    "#     elif model_type == 'NeuralNetwork':\n",
    "#         model_proto = NeuralNetwork\n",
    "#         param = {'learning_rate':0.0001, 'decay':7e-5, 'l2_reg':0.001, 'dropout':0.02, 'n_epochs':40, 'verbose':0, 'batch_size':5}\n",
    "        \n",
    "    elif model_type == 'SVR':\n",
    "        model_proto = svm.SVR\n",
    "        param = { 'kernel':'rbf', 'gamma':0.005, 'tol':0.0001, 'C':2.0, 'epsilon':0.01, 'shrinking':True, 'cache_size':200, 'verbose':False, 'max_iter':-1}\n",
    "    \n",
    "    return model_proto, param"
   ]
  },
  {
   "cell_type": "code",
   "execution_count": 218,
   "metadata": {},
   "outputs": [],
   "source": [
    "def train_model(\n",
    "    model_proto,\n",
    "    model_param,\n",
    "    features,\n",
    "    labels,\n",
    "    val_tol=0.2,\n",
    "    holdout=0.1,\n",
    "    holdout_tol=0.1,\n",
    "    holdout_thres=0.11,\n",
    "    k_fold_1=3,\n",
    "    k_fold_2=3,\n",
    "    shuffle=True,\n",
    "    verbose=2\n",
    "):\n",
    "    assert len(features) == len(labels), 'features and labels should have same size'\n",
    "    n_data = len(features)\n",
    "    default_index = [*range(n_data)]\n",
    "    \n",
    "    if type(features) == pd.DataFrame:\n",
    "        features = features.copy()\n",
    "    else:\n",
    "        features = pd.DataFrame(features)\n",
    "        \n",
    "    if type(labels) == pd.DataFrame: \n",
    "        labels = labels.copy()\n",
    "    else:\n",
    "        labels = pd.DataFrame(labels)\n",
    "    \n",
    "    features.index = default_index\n",
    "    labels.index = default_index\n",
    "        \n",
    "    pred_diff = float('inf')\n",
    "    holdout_loss = float('inf')\n",
    "    totalRound = 0\n",
    "    \n",
    "    while pred_diff > holdout_tol or holdout_loss > holdout_thres:\n",
    "        totalRound += 1\n",
    "        model = model_proto(**model_param)\n",
    "        \n",
    "        if shuffle:\n",
    "            random_idx = np.random.permutation(features.index)\n",
    "            features = features.reindex(random_idx)\n",
    "            labels = labels.reindex(random_idx)\n",
    "        \n",
    "        n_hold = int(n_data * holdout)\n",
    "        n_use = n_data - n_hold\n",
    "\n",
    "        used_features = features[:n_use]\n",
    "        used_labels = labels[:n_use]\n",
    "        \n",
    "        holdout_features = features[n_use:]\n",
    "        holdout_labels = labels[n_use:]\n",
    "        \n",
    "        kfold = model_selection.KFold(n_splits=k_fold_1)\n",
    "        i = 0\n",
    "        for train_idx, val_idx in kfold.split(used_features, used_labels):\n",
    "            i += 1\n",
    "            train_features = used_features.iloc[train_idx]\n",
    "            train_labels = used_labels.iloc[train_idx]\n",
    "            \n",
    "            val_features = used_features.iloc[val_idx]\n",
    "            val_labels = used_labels.iloc[val_idx]\n",
    "            \n",
    "            model.fit(train_features.values, train_labels.values)\n",
    "            \n",
    "            cur_fold_pred = model.predict(val_features.values)\n",
    "            cur_fold_cv_loss = rmse(val_labels, cur_fold_pred)\n",
    "                  \n",
    "                \n",
    "        train_pred = model.predict(used_features.values)\n",
    "        train_loss = rmse(used_labels, train_pred)\n",
    "        \n",
    "        holdout_pred = model.predict(holdout_features.values)\n",
    "        holdout_loss = rmse(holdout_labels, holdout_pred)\n",
    "        \n",
    "        pred_diff = holdout_loss - train_loss\n",
    "        if verbose > 1:\n",
    "            print('Total Round {} holdout_tol> {}, holdout_thres> {}, train:{}'.format(totalRound, pred_diff, holdout_loss, train_loss))\n",
    "\n",
    "    if shuffle:\n",
    "        random_idx = np.random.permutation(features.index)\n",
    "        features = features.reindex(random_idx)\n",
    "        labels = labels.reindex(random_idx)\n",
    "        \n",
    "    model.fit(features.values, labels.values)\n",
    "    \n",
    "    kfold = model_selection.KFold(n_splits=k_fold_2)\n",
    "    i = 0\n",
    "    cv_pred = []\n",
    "    rec_index = []\n",
    "\n",
    "    for train_idx, val_idx in kfold.split(features, labels):\n",
    "        i += 1\n",
    "        train_features = features.iloc[train_idx]\n",
    "        train_labels = labels.iloc[train_idx]\n",
    "        \n",
    "        val_features = features.iloc[val_idx]\n",
    "        val_labels = labels.iloc[val_idx]\n",
    "        \n",
    "        model.fit(train_features.values, train_labels.values)\n",
    "        cur_fold_pred = model.predict(val_features.values)\n",
    "        cur_fold_loss = rmse(val_labels, cur_fold_pred)\n",
    "        \n",
    "        train_pred = model.predict(train_features.values)\n",
    "        train_loss = rmse(train_labels, train_pred)\n",
    "        \n",
    "        pred_diff = cur_fold_loss - train_loss\n",
    "        if pred_diff > val_tol:\n",
    "            if verbose > 1:\n",
    "                print('Final Round {} holdout_tol> {}, holdout_thres> {}, train:{}'.format(i, pred_diff, cur_fold_loss, train_loss))\n",
    "            return None, None\n",
    "        \n",
    "        cv_pred.append(cur_fold_pred)\n",
    "        rec_index += list(val_features.index)\n",
    "    \n",
    "    rev_index = [0] * len(rec_index)\n",
    "    for idx, index in enumerate(rec_index):\n",
    "        rev_index[index] = idx\n",
    "        \n",
    "    cv_pred_total = np.concatenate(cv_pred, axis=0)\n",
    "    cv_pred_total = pd.DataFrame(data=cv_pred_total, index=default_index)\n",
    "    cv_pred_total = cv_pred_total.reindex(rev_index)\n",
    "    return model, cv_pred_total"
   ]
  },
  {
   "cell_type": "markdown",
   "metadata": {},
   "source": [
    "# Single model test"
   ]
  },
  {
   "cell_type": "code",
   "execution_count": 215,
   "metadata": {},
   "outputs": [],
   "source": [
    "all_features = pd.concat([raw_train_data.drop('SalePrice', axis=1), raw_test_data], axis=0)\n",
    "fn_list_1 = [drop_na_features, fill_numeric, rectify_skewness, custom_drop, indicate_quality, custom_cat_drop, dummies, drop_id, add_NewerDwelling, add_NrhdPriority, scale, denoising]\n",
    "whole_features, train_labels = mature_data_process(all_features, raw_train_data['SalePrice'], fn_list=fn_list_1)\n",
    "train_features = whole_features[:len(train_labels)]\n",
    "\n",
    "fn_list_2 = [drop_na_features, fill_numeric, rectify_skewness, custom_drop, indicate_quality, custom_cat_drop, dummies, drop_id, add_NewerDwelling, add_NrhdPriority, scale]\n",
    "whole_features, dummy_label = mature_data_process(all_features, raw_train_data['SalePrice'], fn_list=fn_list_2)\n",
    "test_features = whole_features[len(dummy_label):]\n"
   ]
  },
  {
   "cell_type": "code",
   "execution_count": 1053,
   "metadata": {
    "scrolled": false
   },
   "outputs": [
    {
     "name": "stdout",
     "output_type": "stream",
     "text": [
      "Total Round 1 holdout_tol> -0.008128144182315583, holdout_thres> 0.10638758628028354, train:0.11451573046259912\n"
     ]
    }
   ],
   "source": [
    "model_proto, model_param = gen_models('Ridge')\n",
    "model = None\n",
    "while model is None:\n",
    "    model, cv_pred = train_model(\n",
    "        model_proto,\n",
    "        model_param,\n",
    "        features=train_features,\n",
    "        labels=train_labels,\n",
    "        val_tol=0.1,\n",
    "        holdout=0.12,\n",
    "        holdout_tol=0.05,\n",
    "        holdout_thres=0.12,\n",
    "        k_fold_1=8,\n",
    "        k_fold_2=3,\n",
    "        verbose=2\n",
    "    )"
   ]
  },
  {
   "cell_type": "code",
   "execution_count": 892,
   "metadata": {},
   "outputs": [
    {
     "name": "stdout",
     "output_type": "stream",
     "text": [
      "        Id      SalePrice\n",
      "0     1461  132628.728388\n",
      "1     1462  164319.659224\n",
      "2     1463  193110.200478\n",
      "3     1464  188353.420757\n",
      "4     1465  188827.630476\n",
      "5     1466  180946.526118\n",
      "6     1467  164762.960439\n",
      "7     1468  175589.152658\n",
      "8     1469  175257.817858\n",
      "9     1470  120243.929724\n",
      "10    1471  199128.868214\n",
      "11    1472   92353.722722\n",
      "12    1473   96263.305306\n",
      "13    1474  154678.135114\n",
      "14    1475  133829.463317\n",
      "15    1476  373247.916078\n",
      "16    1477  250680.550750\n",
      "17    1478  283354.749339\n",
      "18    1479  246501.753102\n",
      "19    1480  547318.769986\n",
      "20    1481  338933.678927\n",
      "21    1482  204642.934455\n",
      "22    1483  184113.156399\n",
      "23    1484  175935.666809\n",
      "24    1485  170569.506796\n",
      "25    1486  188811.622334\n",
      "26    1487  365800.322708\n",
      "27    1488  234027.126071\n",
      "28    1489  216501.769104\n",
      "29    1490  212850.374916\n",
      "...    ...            ...\n",
      "1429  2890   74173.581116\n",
      "1430  2891  123280.198491\n",
      "1431  2892   51975.032694\n",
      "1432  2893   80830.165505\n",
      "1433  2894   50412.106756\n",
      "1434  2895  297934.070610\n",
      "1435  2896  277752.363727\n",
      "1436  2897  208837.283507\n",
      "1437  2898  146187.133699\n",
      "1438  2899  213590.041315\n",
      "1439  2900  162050.822034\n",
      "1440  2901  227856.461836\n",
      "1441  2902  190477.856532\n",
      "1442  2903  330441.043152\n",
      "1443  2904  361835.122441\n",
      "1444  2905   94281.495606\n",
      "1445  2906  197826.280806\n",
      "1446  2907  112934.386855\n",
      "1447  2908  132021.186143\n",
      "1448  2909  141707.642637\n",
      "1449  2910   79794.315323\n",
      "1450  2911   80047.298479\n",
      "1451  2912  150016.141451\n",
      "1452  2913   85953.683707\n",
      "1453  2914   73376.443025\n",
      "1454  2915   81789.520533\n",
      "1455  2916   82788.723396\n",
      "1456  2917  167200.328429\n",
      "1457  2918  120212.392704\n",
      "1458  2919  226339.084037\n",
      "\n",
      "[1459 rows x 2 columns]\n"
     ]
    }
   ],
   "source": [
    "pred = model.predict(test_features.values)\n",
    "output_to_file(raw_test_data['Id'], pred.reshape(-1,))"
   ]
  },
  {
   "cell_type": "code",
   "execution_count": 893,
   "metadata": {},
   "outputs": [],
   "source": [
    "save(model, 'light_1314')\n",
    "save(cv_pred, 'light_1314_cv_pred')"
   ]
  },
  {
   "cell_type": "markdown",
   "metadata": {},
   "source": [
    "# Stacked model"
   ]
  },
  {
   "cell_type": "code",
   "execution_count": 250,
   "metadata": {},
   "outputs": [
    {
     "name": "stdout",
     "output_type": "stream",
     "text": [
      "Model ARDRegression round 1\n",
      "Total Round 1 holdout_tol> 0.024482109749548675, holdout_thres> 0.12091787616549374, train:0.09643576641594506\n",
      "Total Round 2 holdout_tol> 0.025924760901268606, holdout_thres> 0.12196944639752605, train:0.09604468549625744\n",
      "Total Round 3 holdout_tol> 0.028020926435824656, holdout_thres> 0.12312501452354632, train:0.09510408808772167\n",
      "Total Round 4 holdout_tol> 0.01614046776254087, holdout_thres> 0.11332119643440028, train:0.09718072867185941\n",
      "Model BayesianRidge round 1\n",
      "Total Round 1 holdout_tol> 0.03552838301382431, holdout_thres> 0.12876691122224818, train:0.09323852820842386\n",
      "Total Round 2 holdout_tol> 0.019343973577292492, holdout_thres> 0.11586368604452482, train:0.09651971246723233\n",
      "Total Round 3 holdout_tol> 0.029632239738459604, holdout_thres> 0.1255792499480702, train:0.0959470102096106\n",
      "Total Round 4 holdout_tol> 0.028147191758093368, holdout_thres> 0.12296699200820893, train:0.09481980025011556\n",
      "Total Round 5 holdout_tol> 0.017927806314709013, holdout_thres> 0.11503603153858266, train:0.09710822522387365\n",
      "Total Round 6 holdout_tol> 0.032920309889195365, holdout_thres> 0.12743020814999118, train:0.09450989826079581\n",
      "Total Round 7 holdout_tol> 0.02701301618377322, holdout_thres> 0.12333911596523171, train:0.0963260997814585\n",
      "Total Round 8 holdout_tol> 0.025594749874004383, holdout_thres> 0.12162113838463019, train:0.09602638851062581\n",
      "Total Round 9 holdout_tol> 0.026185416064770678, holdout_thres> 0.12203222166023957, train:0.09584680559546889\n",
      "Total Round 10 holdout_tol> 0.01880169823509749, holdout_thres> 0.1162210388060662, train:0.09741934057096871\n",
      "Total Round 11 holdout_tol> 0.016265086468756365, holdout_thres> 0.11339585030322269, train:0.09713076383446632\n",
      "Total Round 12 holdout_tol> 0.016421695029071176, holdout_thres> 0.11489436968221878, train:0.0984726746531476\n",
      "Total Round 13 holdout_tol> 0.009579131089775553, holdout_thres> 0.10816664139948926, train:0.0985875103097137\n",
      "Model Ridge round 1\n",
      "Total Round 1 holdout_tol> 0.005023433683578604, holdout_thres> 0.10506024051528319, train:0.10003680683170459\n",
      "Model RandomForestRegressor round 1\n",
      "Total Round 1 holdout_tol> 0.04720596068664737, holdout_thres> 0.12831749543684542, train:0.08111153475019806\n",
      "Total Round 2 holdout_tol> 0.039146970805226375, holdout_thres> 0.12088281770409769, train:0.08173584689887131\n",
      "Total Round 3 holdout_tol> 0.06156106176138591, holdout_thres> 0.14307337331701656, train:0.08151231155563064\n",
      "Total Round 4 holdout_tol> 0.03857273723915364, holdout_thres> 0.12085940215122505, train:0.08228666491207141\n",
      "Total Round 5 holdout_tol> 0.057368486669586355, holdout_thres> 0.1418590498124027, train:0.08449056314281633\n",
      "Total Round 6 holdout_tol> 0.06913210372756917, holdout_thres> 0.1544034860934179, train:0.08527138236584872\n",
      "Total Round 7 holdout_tol> 0.04239535680638348, holdout_thres> 0.12755688382889113, train:0.08516152702250765\n",
      "Total Round 8 holdout_tol> 0.04571992821444776, holdout_thres> 0.12930353068946215, train:0.0835836024750144\n",
      "Total Round 9 holdout_tol> 0.034438667362153105, holdout_thres> 0.11802013182488913, train:0.08358146446273602\n",
      "Model GradientBoostingRegressor round 1\n",
      "Total Round 1 holdout_tol> 0.07732759743489287, holdout_thres> 0.13760461118038855, train:0.06027701374549569\n",
      "Total Round 2 holdout_tol> 0.06202080257484158, holdout_thres> 0.1246556459348874, train:0.06263484336004582\n",
      "Total Round 3 holdout_tol> 0.06239911557738633, holdout_thres> 0.12073676294562868, train:0.05833764736824235\n",
      "Total Round 4 holdout_tol> 0.054951240035505555, holdout_thres> 0.11770461164804988, train:0.06275337161254432\n",
      "Total Round 5 holdout_tol> 0.05947697267049382, holdout_thres> 0.11819901772324388, train:0.05872204505275006\n",
      "Total Round 6 holdout_tol> 0.04059385723645835, holdout_thres> 0.10430544891826257, train:0.06371159168180422\n",
      "Model XGBRegressor round 1\n",
      "Total Round 1 holdout_tol> 0.041598671374693544, holdout_thres> 0.10788077118835131, train:0.06628209981365776\n",
      "Model LGBMRegressor round 1\n",
      "Total Round 1 holdout_tol> 0.034482348794994025, holdout_thres> 0.10796764351603136, train:0.07348529472103733\n",
      "Model SVR round 1\n",
      "Total Round 1 holdout_tol> 0.01579382190075107, holdout_thres> 0.12137515627758283, train:0.10558133437683176\n"
     ]
    }
   ],
   "source": [
    "model_names = {'ARDRegression':[4,0.115], 'BayesianRidge':[2,0.11], 'Ridge':[1,0.12], 'RandomForestRegressor':[4,0.12], 'GradientBoostingRegressor':[4,0.11], 'XGBRegressor':[4,0.11], 'LGBMRegressor':[4, 0.11], 'SVR':[2,0.13]}\n",
    "models = []\n",
    "cv_preds = []\n",
    "for model_name, (num, thres) in model_names.items():\n",
    "    model_proto, model_param = gen_models(model_name)\n",
    "    model = None\n",
    "    i = 0\n",
    "    for _ in range(num):\n",
    "        while model is None:\n",
    "            i += 1\n",
    "            print('Model {} round {}'.format(model_proto.__name__, i))\n",
    "            model, cv_pred = train_model(\n",
    "                model_proto,\n",
    "                model_param,\n",
    "                features=train_features,\n",
    "                labels=train_labels,\n",
    "                val_tol=0.2,\n",
    "                holdout=0.18,\n",
    "                holdout_tol=0.1,\n",
    "                holdout_thres=thres,\n",
    "                k_fold_1=8,\n",
    "                k_fold_2=3,\n",
    "                verbose=2\n",
    "            )\n",
    "        models.append(model)\n",
    "        cv_preds.append(cv_pred)"
   ]
  },
  {
   "cell_type": "code",
   "execution_count": 251,
   "metadata": {},
   "outputs": [
    {
     "name": "stdout",
     "output_type": "stream",
     "text": [
      "        Id      SalePrice\n",
      "0     1461  126104.094745\n",
      "1     1462  158622.980593\n",
      "2     1463  186186.040216\n",
      "3     1464  194633.867964\n",
      "4     1465  193781.006109\n",
      "5     1466  175617.399589\n",
      "6     1467  172988.405032\n",
      "7     1468  168287.050710\n",
      "8     1469  189730.311684\n",
      "9     1470  123712.175848\n",
      "10    1471  188974.238248\n",
      "11    1472   95927.125370\n",
      "12    1473   97787.568517\n",
      "13    1474  149261.310288\n",
      "14    1475  122190.242587\n",
      "15    1476  363938.584710\n",
      "16    1477  256382.059113\n",
      "17    1478  298643.888806\n",
      "18    1479  272591.129137\n",
      "19    1480  479171.859364\n",
      "20    1481  337368.450050\n",
      "21    1482  209078.448233\n",
      "22    1483  180766.523354\n",
      "23    1484  168431.508716\n",
      "24    1485  180944.512950\n",
      "25    1486  194446.883649\n",
      "26    1487  333518.511318\n",
      "27    1488  240359.361387\n",
      "28    1489  201149.890018\n",
      "29    1490  230555.357564\n",
      "...    ...            ...\n",
      "1429  2890   81355.084710\n",
      "1430  2891  134057.966098\n",
      "1431  2892   50457.110940\n",
      "1432  2893   80011.476307\n",
      "1433  2894   53653.206197\n",
      "1434  2895  294626.384647\n",
      "1435  2896  269237.912291\n",
      "1436  2897  198803.993461\n",
      "1437  2898  144769.797699\n",
      "1438  2899  205570.332432\n",
      "1439  2900  156980.641190\n",
      "1440  2901  199211.698290\n",
      "1441  2902  185239.402993\n",
      "1442  2903  333855.240947\n",
      "1443  2904  341430.557492\n",
      "1444  2905   99984.215198\n",
      "1445  2906  202886.340197\n",
      "1446  2907  109832.275771\n",
      "1447  2908  129712.640630\n",
      "1448  2909  142709.904292\n",
      "1449  2910   79890.692818\n",
      "1450  2911   83036.975867\n",
      "1451  2912  144726.615992\n",
      "1452  2913   84494.598635\n",
      "1453  2914   81483.625398\n",
      "1454  2915   86279.989456\n",
      "1455  2916   85425.834167\n",
      "1456  2917  161536.892627\n",
      "1457  2918  118750.876615\n",
      "1458  2919  213840.020492\n",
      "\n",
      "[1459 rows x 2 columns]\n"
     ]
    }
   ],
   "source": [
    "preds = np.concatenate([model.predict(test_features.values).reshape((-1,1)) for model in models], axis=1)\n",
    "output_to_file(raw_test_data['Id'], preds.mean(axis=1))"
   ]
  },
  {
   "cell_type": "raw",
   "metadata": {},
   "source": [
    "cv = np.concatenate(cv_preds, axis=1)\n",
    "print(cv)"
   ]
  },
  {
   "cell_type": "raw",
   "metadata": {},
   "source": [
    "model2, _ = train_model(\n",
    "    model_proto=linear_model.Lasso,\n",
    "    model_param={\n",
    "        'alpha':0.01,\n",
    "        'fit_intercept':True, \n",
    "        'normalize':False,\n",
    "        'precompute':False,\n",
    "        'copy_X':True,\n",
    "        'max_iter':1000,\n",
    "        'tol':0.0001,\n",
    "        'warm_start':False, \n",
    "        'positive':True, \n",
    "        'random_state':None, \n",
    "        'selection':'cyclic'\n",
    "    },\n",
    "    features=cv,\n",
    "    labels=train_labels,\n",
    "    val_tol=0.2,\n",
    "    holdout=0.1,\n",
    "    holdout_tol=0.02,\n",
    "    holdout_thres=0.10,\n",
    "    k_fold_1=3,\n",
    "    k_fold_2=3,\n",
    "    verbose=2\n",
    ")"
   ]
  },
  {
   "cell_type": "raw",
   "metadata": {},
   "source": [
    "model2.coef_"
   ]
  },
  {
   "cell_type": "raw",
   "metadata": {},
   "source": [
    "layer2_features = np.concatenate([model.predict(test_features.values).reshape((-1,1)) for model in models], axis=1)\n",
    "layer2_pred = model2.predict(layer2_features)\n",
    "output_to_file(raw_test_data['Id'], layer2_pred.reshape(-1,))\n"
   ]
  },
  {
   "cell_type": "code",
   "execution_count": 225,
   "metadata": {},
   "outputs": [],
   "source": [
    "save(model, 'final_model')"
   ]
  },
  {
   "cell_type": "markdown",
   "metadata": {},
   "source": [
    "# DEPRECATED"
   ]
  },
  {
   "cell_type": "markdown",
   "metadata": {},
   "source": [
    "# Find good features\n",
    "1. Check the mutual information each feature brings with target\n",
    "2. Use covariance to search for columns\n",
    "3. Use lasso to search for columns\n",
    "4. Use PCA to generate columns\n",
    "\n",
    "How to check if a generated feature is good or bad?\n",
    "1. Have positive or negative covariance with target\n",
    "2. Have less covariance with other features\n",
    "3. Have better result in practice"
   ]
  },
  {
   "cell_type": "markdown",
   "metadata": {},
   "source": [
    "## Naive data"
   ]
  },
  {
   "cell_type": "raw",
   "metadata": {
    "collapsed": true
   },
   "source": [
    "cur_features, cur_labels = naive_data_process(\n",
    "    raw_train_data.drop(columns=[\"SalePrice\", \"Id\"]),\n",
    "    raw_train_data[\"SalePrice\"]\n",
    ")\n",
    "data_test_run(cur_features, cur_labels)"
   ]
  },
  {
   "cell_type": "markdown",
   "metadata": {},
   "source": [
    "## Mutual information"
   ]
  },
  {
   "cell_type": "raw",
   "metadata": {},
   "source": [
    "raw_train_data.head()\n",
    "\n",
    "concrete_features = ['MSSubClass', 'MSZoning', 'Street', 'Alley', 'LotShape', 'LandContour', 'Utilities', 'LotConfig', 'LandSlope', 'Neighborhood', 'Condition1', 'Condition2', 'BldgType', 'HouseStyle', 'OverallQual', 'OverallCond', 'YearBuilt', 'YearRemodAdd', 'RoofStyle', 'RoofMatl', 'Exterior1st', 'Exterior2nd', 'MasVnrType', 'ExterQual', 'ExterCond', 'Foundation', 'BsmtQual', 'BsmtCond', 'BsmtExposure', 'BsmtFinType1', 'BsmtFinType2', 'Heating', 'HeatingQC', 'CentralAir', 'Electrical', 'BsmtFullBath', 'BsmtHalfBath', 'FullBath', 'HalfBath', 'BedroomAbvGr', 'KitchenAbvGr', 'KitchenQual', 'TotRmsAbvGrd', 'Functional', 'Fireplaces', 'FireplaceQu', 'GarageType', 'GarageYrBlt', 'GarageFinish', 'GarageCars', 'GarageQual', 'GarageCond', 'PavedDrive', 'PoolQC', 'Fence', 'MiscFeature', 'YrSold', 'MoSold', 'SaleType', 'SaleCondition']\n",
    "continuous_features = list(set(list(all_features)) - set(concrete_features) - set(['SalePrice']))\n",
    "\n",
    "\n",
    "cur_test = pd.DataFrame(raw_train_data, copy=True)\n",
    "for col_name in list(cur_test):\n",
    "    if cur_test[col_name].dtypes == np.object:\n",
    "        cur_test[col_name] = cur_test[col_name].fillna('NA')\n",
    "    else:\n",
    "        cur_test[col_name] = cur_test[col_name].fillna(cur_test[col_name].mean())\n",
    "\n",
    "for col_name in list(cur_test):\n",
    "    if col_name != 'SalePrice' and cur_test[col_name].dtypes == np.object:\n",
    "        cur_test[col_name] = pd.Categorical(cur_test[col_name])\n",
    "        cur_test[col_name] = cur_test[col_name].cat.codes\n",
    "\n",
    "print(\"Info gain of concrete features:\")\n",
    "info_gain = feature_selection.mutual_info_regression(cur_test[concrete_features], cur_test[\"SalePrice\"])\n",
    "for col_name, gain in zip(concrete_features, info_gain):\n",
    "    print(\"{}: {}\".format(col_name, gain))\n",
    "    \n",
    "print(\"Info gain of continuous features:\")\n",
    "info_gain = feature_selection.mutual_info_regression(cur_test[continuous_features], cur_test[\"SalePrice\"])\n",
    "for col_name, gain in zip(continuous_features, info_gain):\n",
    "    print(\"{}: {}\".format(col_name, gain))"
   ]
  },
  {
   "cell_type": "markdown",
   "metadata": {},
   "source": [
    "## Covariance"
   ]
  },
  {
   "cell_type": "raw",
   "metadata": {},
   "source": [
    "train_data = pd.concat([all_features[:len(raw_train_data)], np.log1p(raw_train_data['SalePrice'])], axis=1)\n",
    "\n",
    "corr_matrix = train_data.corr()\n",
    "\n",
    "col_name_high_corr = []\n",
    "for name, corr in zip(corr_matrix['SalePrice'].index, corr_matrix['SalePrice'].values):\n",
    "    if corr > 0.2 and name != 'SalePrice':\n",
    "        print(name, corr)\n",
    "        col_name_high_corr.append(name)\n",
    "        \n",
    "print('\\n', col_name_high_corr)\n",
    "\n",
    "data_test_run(all_features[:len(raw_train_data)][col_name_high_corr], np.log1p(raw_train_data['SalePrice']))"
   ]
  },
  {
   "cell_type": "markdown",
   "metadata": {},
   "source": [
    "## Use Ridge to find features"
   ]
  },
  {
   "cell_type": "raw",
   "metadata": {
    "collapsed": true
   },
   "source": [
    "ridge_model = linear_model.Ridge()\n",
    "ridge_model, _ = cross_validate(\n",
    "    ridge_model, \n",
    "    all_features[:len(raw_train_data)], \n",
    "    np.log1p(raw_train_data['SalePrice']),\n",
    ")\n",
    "\n",
    "col_name_ridge = []\n",
    "for col_name, coef in zip(list(all_features), ridge_model[0].coef_):\n",
    "    if coef > 0.03:\n",
    "        print(col_name, coef)\n",
    "        col_name_ridge.append(col_name)\n",
    "        \n",
    "print(col_name_ridge)\n",
    "\n",
    "data_test_run(all_features[:len(raw_train_data)][col_name_ridge], np.log1p(raw_train_data['SalePrice']))"
   ]
  },
  {
   "cell_type": "markdown",
   "metadata": {},
   "source": [
    "## PCA"
   ]
  },
  {
   "cell_type": "raw",
   "metadata": {
    "slideshow": {
     "slide_type": "-"
    }
   },
   "source": [
    "pca = decomposition.PCA(n_components=30)\n",
    "pca.fit(all_features[:len(raw_train_data)])\n",
    "print(pca.explained_variance_)\n",
    "train_features = pca.transform(all_features[:len(raw_train_data)])\n",
    "print(train_features.shape)\n",
    "\n",
    "data_test_run(train_features[:len(raw_train_data)], np.log1p(raw_train_data['SalePrice']))"
   ]
  },
  {
   "cell_type": "markdown",
   "metadata": {},
   "source": [
    "## Eliminate useless features"
   ]
  },
  {
   "cell_type": "raw",
   "metadata": {
    "collapsed": true
   },
   "source": [
    "rf_model = ensemble.RandomForestRegressor()\n",
    "selector = feature_selection.RFECV(estimator=rf_model, cv=10, scoring=rmse_scorer, verbose=3)\n",
    "train_features, train_labels = naive_data_process(raw_train_data.drop(columns=[\"SalePrice\"]), raw_train_data[\"SalePrice\"])\n",
    "selector.fit(train_features, train_labels)\n",
    "print(\"Feature remains: {}\".format(selector.n_features_))\n",
    "\n",
    "train_features = selector.transform(train_features)\n",
    "\n",
    "data_test_run(train_features, train_labels)"
   ]
  },
  {
   "cell_type": "markdown",
   "metadata": {},
   "source": [
    "# Model searching"
   ]
  },
  {
   "cell_type": "raw",
   "metadata": {},
   "source": [
    "# gpr = gaussian_process.GaussianProcessRegressor()\n",
    "huber = linear_model.HuberRegressor()\n",
    "par = linear_model.PassiveAggressiveRegressor()\n",
    "ransac = linear_model.RANSACRegressor()\n",
    "# sdg = linear_model.SGDRegressor()\n",
    "# theilsen = linear_model.TheilSenRegressor()\n",
    "knnr = neighbors.KNeighborsRegressor(n_neighbors=7)\n",
    "rnnr = neighbors.RadiusNeighborsRegressor()\n",
    "mlpr = neural_network.MLPRegressor(hidden_layer_sizes=(64,128,256), activation='tanh')\n",
    "treer = tree.DecisionTreeRegressor()\n",
    "extreer = tree.ExtraTreeRegressor()\n",
    "test_models1 = [huber, par, ransac]\n",
    "test_models2 = [knnr]\n",
    "test_models3 = [mlpr, treer, extreer]\n",
    "\n",
    "train_features, train_labels = naive_data_process(raw_train_data.drop(columns=[\"SalePrice\"]), raw_train_data[\"SalePrice\"])\n",
    "\n",
    "validation_framework(\n",
    "    models_1=test_models1,\n",
    "    features=train_features,\n",
    "    labels=train_labels,\n",
    "    loss_fn=rmse,\n",
    "    k_fold=10,\n",
    "    holdout_rate=0.1,\n",
    "    tolerate_span=0.15,\n",
    "    ylim=(0, 0.5),\n",
    "    n_epochs=1,\n",
    "    verbose=3\n",
    ")\n",
    "\n",
    "\n",
    "validation_framework(\n",
    "    models_1=test_models2,\n",
    "    features=train_features,\n",
    "    labels=train_labels,\n",
    "    loss_fn=rmse,\n",
    "    k_fold=10,\n",
    "    holdout_rate=0.1,\n",
    "    tolerate_span=0.15,\n",
    "    ylim=(0, 0.5),\n",
    "    n_epochs=1,\n",
    "    verbose=3\n",
    ")\n",
    "\n",
    "\n",
    "validation_framework(\n",
    "    models_1=test_models3,\n",
    "    features=train_features,\n",
    "    labels=train_labels,\n",
    "    loss_fn=rmse,\n",
    "    k_fold=10,\n",
    "    holdout_rate=0.1,\n",
    "    tolerate_span=0.15,\n",
    "    ylim=(0, 0.5),\n",
    "    n_epochs=1,\n",
    "    verbose=3\n",
    ")"
   ]
  },
  {
   "cell_type": "markdown",
   "metadata": {},
   "source": [
    "# Dig in deeper"
   ]
  },
  {
   "cell_type": "markdown",
   "metadata": {},
   "source": [
    "Use fully processed data as features without any dimension reduction."
   ]
  },
  {
   "cell_type": "raw",
   "metadata": {},
   "source": [
    "min_max_scaler = preprocessing.MinMaxScaler()\n",
    "\n",
    "train_features, train_labels = mature_data_process(\n",
    "    raw_train_data.drop(columns=[\"SalePrice\"]),\n",
    "    raw_train_data[\"SalePrice\"],\n",
    "    scaler=min_max_scaler\n",
    ")"
   ]
  },
  {
   "cell_type": "markdown",
   "metadata": {},
   "source": [
    "## Compare huber and other linear models"
   ]
  },
  {
   "cell_type": "raw",
   "metadata": {},
   "source": [
    "# lasso = linear_model.Lasso() # Out\n",
    "ridge = linear_model.Ridge()\n",
    "huber = linear_model.HuberRegressor()\n",
    "# lassolars = linear_model.LassoLars() # Out\n",
    "# lr = linear_model.LinearRegression() # Out\n",
    "ard = linear_model.ARDRegression()\n",
    "bayes = linear_model.BayesianRidge()\n",
    "\n",
    "linear_models = [ridge, huber, ard, bayes]"
   ]
  },
  {
   "cell_type": "raw",
   "metadata": {
    "scrolled": false
   },
   "source": [
    "_, _ = validation_framework(\n",
    "    linear_models,\n",
    "    features=train_features,\n",
    "    labels=train_labels,\n",
    "    loss_fn=rmse,\n",
    "    models_2=None,\n",
    "    k_fold=10,\n",
    "    holdout_rate=0.1,\n",
    "    tolerate_span=0.1,\n",
    "    ylim=(0, 0.5),\n",
    "    n_epochs=4,\n",
    "    verbose=1\n",
    ")"
   ]
  },
  {
   "cell_type": "markdown",
   "metadata": {},
   "source": [
    "## Try to remove the max and min saleprice and fit it again"
   ]
  },
  {
   "cell_type": "raw",
   "metadata": {},
   "source": [
    "cur_all_data = pd.concat([train_features, train_labels], axis=1)\n",
    "max_price = cur_all_data['SalePrice'].quantile(0.9)\n",
    "min_price = cur_all_data['SalePrice'].quantile(0.1)\n",
    "sale_price = cur_all_data['SalePrice']\n",
    "trunc_cur_all_data = cur_all_data.loc[(sale_price < max_price) & (sale_price > min_price)]\n",
    "print(\"After truncating, data rows: {}\".format(len(trunc_cur_all_data)))\n",
    "trunc_train_features, trunc_train_labels = trunc_cur_all_data.drop(columns=[\"SalePrice\"]), trunc_cur_all_data[\"SalePrice\"]"
   ]
  },
  {
   "cell_type": "raw",
   "metadata": {},
   "source": [
    "ridge = linear_model.Ridge()\n",
    "huber = linear_model.HuberRegressor()\n",
    "ard = linear_model.ARDRegression()\n",
    "bayes = linear_model.BayesianRidge()\n",
    "\n",
    "linear_models = [ridge, huber, ard, bayes]"
   ]
  },
  {
   "cell_type": "raw",
   "metadata": {},
   "source": [
    "linear_models, _ = validation_framework(\n",
    "    linear_models,\n",
    "    features=trunc_train_features,\n",
    "    labels=trunc_train_labels,\n",
    "    loss_fn=rmse,\n",
    "    models_2=None,\n",
    "    k_fold=10,\n",
    "    holdout_rate=0.1,\n",
    "    tolerate_span=0.1,\n",
    "    ylim=(0, 0.5),\n",
    "    n_epochs=4,\n",
    "    verbose=1\n",
    ")"
   ]
  },
  {
   "cell_type": "raw",
   "metadata": {},
   "source": [
    "print([rmse(train_labels, model.predict(train_features)) for model in linear_models])"
   ]
  },
  {
   "cell_type": "markdown",
   "metadata": {},
   "source": [
    "> Ridge, ard, bayesian works fine\n",
    "\n",
    "> Train on truncated data is fine"
   ]
  },
  {
   "cell_type": "markdown",
   "metadata": {},
   "source": [
    "## Remove the Quality columns"
   ]
  },
  {
   "cell_type": "markdown",
   "metadata": {},
   "source": [
    "Try gbrt after removing quality columns"
   ]
  },
  {
   "cell_type": "markdown",
   "metadata": {},
   "source": [
    "try random forest after removing quality columns"
   ]
  },
  {
   "cell_type": "markdown",
   "metadata": {},
   "source": [
    "> Quality is a removable feature, which can reduce the overestimation or underestimation of median price house, but add this feature might also be profitable"
   ]
  },
  {
   "cell_type": "raw",
   "metadata": {
    "collapsed": true
   },
   "source": [
    "models = [ensemble.RandomForestRegressor(), ensemble.GradientBoostingRegressor()]\n",
    "important_features(models, trunc_train_features.drop(columns=['OverallQual']), trunc_train_labels)"
   ]
  },
  {
   "cell_type": "markdown",
   "metadata": {},
   "source": [
    "## ~~Build a classifier to split high price house median price house and low price house~~\n",
    "It is a bad idea.\n",
    "After implemented a classifier and tested it, I found that the average accuracy is about 89%, that is to say we can only classify correctly 9% of the low or high price houses, and add more noise to the data. Those features we use to classify are also used for regression, thus add a another classifier to generate a new feature could be a very very bad idea."
   ]
  },
  {
   "cell_type": "markdown",
   "metadata": {},
   "source": [
    "## Linear model fit only low dimension data"
   ]
  },
  {
   "cell_type": "raw",
   "metadata": {},
   "source": [
    "ridge = linear_model.Ridge()\n",
    "ard = linear_model.ARDRegression()\n",
    "bayes = linear_model.BayesianRidge()\n",
    "\n",
    "linear_models = [ridge, ard, bayes]"
   ]
  },
  {
   "cell_type": "raw",
   "metadata": {},
   "source": [
    "features_from_rr = set(info_df.loc[:20, ['features_RandomForestRegressor']].values.reshape(-1,))\n",
    "features_from_gb = set(info_df.loc[:20, ['features_GradientBoostingRegressor']].values.reshape(-1,))\n",
    "features_selected = features_from_rr.union(features_from_gb)\n",
    "print(features_selected)"
   ]
  },
  {
   "cell_type": "raw",
   "metadata": {
    "collapsed": true
   },
   "source": [
    "linear_models, _ = validation_framework(\n",
    "    linear_models,\n",
    "    features=train_features[list(features_selected)],\n",
    "    labels=train_labels,\n",
    "    loss_fn=rmse,\n",
    "    models_2=None,\n",
    "    k_fold=10,\n",
    "    holdout_rate=0.07,\n",
    "    tolerate_span=0.1,\n",
    "    ylim=(0, 0.5),\n",
    "    n_epochs=4,\n",
    "    verbose=2\n",
    ")"
   ]
  },
  {
   "cell_type": "markdown",
   "metadata": {},
   "source": [
    "# Outliers\n",
    "The jitter is probably caused by outliers. So, it's time for that"
   ]
  },
  {
   "cell_type": "raw",
   "metadata": {},
   "source": [
    "robust_scaler = preprocessing.RobustScaler()\n",
    "\n",
    "train_features, train_labels = mature_data_process(\n",
    "    raw_train_data.drop(columns=[\"SalePrice\"]),\n",
    "    raw_train_data[\"SalePrice\"],\n",
    "    scaler=robust_scaler\n",
    ")"
   ]
  },
  {
   "cell_type": "markdown",
   "metadata": {},
   "source": [
    "## DBSCAN"
   ]
  },
  {
   "cell_type": "raw",
   "metadata": {},
   "source": [
    "dbscan = cluster.DBSCAN(eps=18, min_samples=10, metric='euclidean')\n",
    "group_idx = dbscan.fit_predict(train_features)\n",
    "print(Counter(dbscan.labels_))\n"
   ]
  },
  {
   "cell_type": "raw",
   "metadata": {
    "scrolled": true
   },
   "source": [
    "filtered_train_features = train_features.iloc[[idx != -1 for idx in group_idx]]\n",
    "filtered_train_labels = train_labels.iloc[[idx != -1 for idx in group_idx]]\n",
    "data_test_run(filtered_train_features, filtered_train_labels)"
   ]
  },
  {
   "cell_type": "raw",
   "metadata": {
    "scrolled": false
   },
   "source": [
    "rf = ensemble.RandomForestRegressor()\n",
    "\n",
    "models = [rf]\n",
    "\n",
    "models, _ = validation_framework(\n",
    "    models,\n",
    "    features=filtered_train_features,\n",
    "    labels=filtered_train_labels,\n",
    "    loss_fn=rmse,\n",
    "    models_2=None,\n",
    "    k_fold=10,\n",
    "    holdout_rate=0.2,\n",
    "    tolerate_span=0.1,\n",
    "    ylim=(0, 0.5),\n",
    "    n_epochs=1,\n",
    "    verbose=1\n",
    ")\n",
    "\n",
    "print([rmse(train_labels, model.predict(train_features)) for model in models])"
   ]
  },
  {
   "cell_type": "markdown",
   "metadata": {},
   "source": [
    "## Isolation Tree"
   ]
  },
  {
   "cell_type": "markdown",
   "metadata": {},
   "source": [
    "It turns out isolation tree works pretty good"
   ]
  },
  {
   "cell_type": "raw",
   "metadata": {},
   "source": [
    "iso_tree = ensemble.IsolationForest(n_estimators=300)\n",
    "iso_tree.fit(train_features)\n",
    "group_idx = iso_tree.predict(train_features)\n",
    "print(Counter(group_idx))\n"
   ]
  },
  {
   "cell_type": "raw",
   "metadata": {
    "scrolled": true
   },
   "source": [
    "filtered_train_features = train_features.iloc[[idx != -1 for idx in group_idx]]\n",
    "filtered_train_labels = train_labels.iloc[[idx != -1 for idx in group_idx]]\n",
    "data_test_run(filtered_train_features, filtered_train_labels)"
   ]
  },
  {
   "cell_type": "raw",
   "metadata": {
    "scrolled": false
   },
   "source": [
    "rf = ensemble.RandomForestRegressor()\n",
    "\n",
    "models = [rf]\n",
    "\n",
    "models, _ = validation_framework(\n",
    "    models,\n",
    "    features=filtered_train_features,\n",
    "    labels=filtered_train_labels,\n",
    "    loss_fn=rmse,\n",
    "    models_2=None,\n",
    "    k_fold=10,\n",
    "    holdout_rate=0.2,\n",
    "    tolerate_span=0.1,\n",
    "    ylim=(0, 0.5),\n",
    "    n_epochs=1,\n",
    "    verbose=1\n",
    ")\n",
    "\n",
    "print([rmse(train_labels, model.predict(train_features)) for model in models])"
   ]
  },
  {
   "cell_type": "markdown",
   "metadata": {},
   "source": [
    "# Summary\n",
    "There are several data processing:\n",
    "1. Foundamental processing: fill null, indicate value, transform to dummies\n",
    "2. Find features\n",
    "  - Use random forest and gradient boosting tree or ridge to find features\n",
    "  - Use PCA to find features\n",
    "  - Use Covariance to find features\n",
    "  - Use RFECV to remove useless features\n",
    "  - Some features, like those quality based, evolved human rating which is unstable\n",
    "3. Remove outliers\n",
    "  - Remove those under 0.1 percentile and above 0.9 percentile\n",
    "  - Remove outliers using isolation tree\n",
    "    - We should do it together with those test data\n",
    "    - Since those impact comes from continuous data, should we just search those outlier using only those features?\n",
    "  - Remove outliers using DBSCAN\n",
    "  - Remove those by hand\n",
    "4. Scale data to fit models. Some models are susceptible by data scaling, Lasso and Neural network for example.\n",
    "\n",
    "Validation framework is important, since we can apply strategy on it to train our model and avoid overfitting:\n",
    "1. Use holdout and k-fold all together and treat second layer model very very carefully.\n",
    "2. Cross validation could be used to tune models.\n",
    "\n",
    "Models are important. Some are just not suitable, and some give bad result.\n",
    "1. Linear model: ridge, ARDRegression, BayesianRidge act well, others need apply logarithm to skewed features\n",
    "2. Ensemble model: Random Forest, terrific. GradientBoosting, good. Sklearn, catboost, lightgbm, xgboost provide.\n",
    "3. Neural network: with right structure, and good data, it performs well\n",
    "4. KNN: not so good, should I tune?\n",
    "5. SVM: slow and not so good, should I tune?\n",
    "\n",
    "Tuning is essential. Some models have so many parameters, but few are important. I need to figure that out.\n",
    "I should train each on different data with different parameter to find the best one.\n",
    "\n",
    "I need a framework to do all above things for me.\n",
    "\n",
    "---\n",
    "  \n",
    "After extracting features, the prediction always gets more unstable. This is probably because those features that smooth the curve have been removed, so outlier in this features have more affect."
   ]
  },
  {
   "cell_type": "markdown",
   "metadata": {},
   "source": [
    "# Plan\n",
    "1. Need a framework to search the best dataset and best parameter that model needs and return the prediction info.\n",
    "2. Need a framework that generate tons of good models(Including the second layer model) its cv_pred on training data and its test data"
   ]
  },
  {
   "cell_type": "code",
   "execution_count": 11,
   "metadata": {},
   "outputs": [],
   "source": [
    "class Truncate:\n",
    "    def __init__(self, s_percentile=0.1, e_percentile=0.9):\n",
    "        self.s_pctile = s_percentile if s_percentile > 0 else 0\n",
    "        self.e_pctile = e_percentile if e_percentile < 1 else 1\n",
    "        \n",
    "    def fit(self, features, labels):\n",
    "        cur_all_data = pd.concat([features, labels], axis=1)\n",
    "        self.max_v = labels.quantile(self.e_pctile)\n",
    "        self.min_v = labels.quantile(self.s_pctile)\n",
    "\n",
    "        \n",
    "    def predict(self, features, labels):\n",
    "        return [int(b) for b in ((labels > self.min_v) & (labels < self.max_v)).values.reshape(-1,)]"
   ]
  },
  {
   "cell_type": "code",
   "execution_count": 12,
   "metadata": {},
   "outputs": [],
   "source": [
    "def outlier_all_kinds(train_features, train_labels, test_features):\n",
    "    n_train = len(train_labels)\n",
    "    all_features = pd.concat([train_features, test_features], axis=0)\n",
    "    collection = []\n",
    "\n",
    "#     #Truncate percentile 0.1 to 0.9\n",
    "#     tr = Truncate(0.1, 0.9)\n",
    "#     tr.fit(train_features, train_labels)\n",
    "#     group_idx = tr.predict(train_features, train_labels)\n",
    "#     filtered_train_features = train_features.iloc[[idx != -1 for idx in group_idx]]\n",
    "#     filtered_train_labels = train_labels.iloc[[idx != -1 for idx in group_idx]]\n",
    "#     collection.append((filtered_train_features, filtered_train_labels, test_features))\n",
    "    \n",
    "    #Isolation tree\n",
    "    iso_tree = ensemble.IsolationForest(n_estimators=200)\n",
    "    iso_tree.fit(all_features)\n",
    "    group_idx = iso_tree.predict(train_features)\n",
    "    filtered_train_features = train_features.iloc[[idx != -1 for idx in group_idx]]\n",
    "    filtered_train_labels = train_labels.iloc[[idx != -1 for idx in group_idx]]\n",
    "    collection.append((filtered_train_features, filtered_train_labels, test_features))\n",
    "    \n",
    "#     #DBSCAN\n",
    "#     dbscan = cluster.DBSCAN(eps=18, min_samples=10, metric='euclidean')\n",
    "#     dbscan.fit(all_features)\n",
    "#     group_idx = dbscan.fit_predict(train_features)\n",
    "#     filtered_train_features = train_features.iloc[[idx != -1 for idx in group_idx]]\n",
    "#     filtered_train_labels = train_labels.iloc[[idx != -1 for idx in group_idx]]\n",
    "#     collection.append((filtered_train_features, filtered_train_labels, test_features))\n",
    "    \n",
    "    return collection\n",
    "\n",
    "    \n",
    "def dataset_all_kinds(raw_train_data, raw_test_data, outlier_removed=False):\n",
    "    collection = []\n",
    "    all_features = pd.concat([raw_train_data.drop(\"SalePrice\", axis=1), raw_test_data], axis=0)\n",
    "    all_labels = raw_train_data[\"SalePrice\"]\n",
    "    n_train = len(all_labels)\n",
    "    robust_scaler = preprocessing.RobustScaler()\n",
    "    \n",
    "#     #Naive data\n",
    "#     cur_features, cur_labels = naive_data_process(all_features, all_labels)\n",
    "#     collection.append((cur_features[:n_train], cur_labels, cur_features[n_train:]))\n",
    "#     print(\"Naive data done\")\n",
    "    \n",
    "    #Full mature data\n",
    "    cur_features, cur_labels = mature_data_process(all_features, all_labels, scaler=robust_scaler)\n",
    "    collection.append((cur_features[:n_train], cur_labels, cur_features[n_train:]))\n",
    "    if outlier_removed:\n",
    "        collection.extend(outlier_all_kinds(*collection[-1]))\n",
    "    print(\"Full mature data done\")\n",
    "    \n",
    "    #Objective mature data\n",
    "    cur_features, cur_labels = mature_data_process(all_features, all_labels, scaler=robust_scaler)\n",
    "    cur_features = cur_features.drop(\n",
    "        columns=['OverallQual', 'ExterQual', 'BsmtQual', 'OverallCond', 'BsmtCond', 'ExterCond', 'GarageQual', 'GarageCond']\n",
    "    )\n",
    "    collection.append((cur_features[:n_train], cur_labels, cur_features[n_train:]))\n",
    "    if outlier_removed:\n",
    "        collection.extend(outlier_all_kinds(*collection[-1]))\n",
    "    print(\"Object mature data done\")\n",
    "    \n",
    "    #Only numeric data\n",
    "    numeric_col_names = []\n",
    "    for col_name in list(raw_train_data):\n",
    "        if raw_train_data[col_name].dtypes != np.object and col_name != 'SalePrice':\n",
    "            numeric_col_names.append(col_name)\n",
    "            \n",
    "    cur_features, cur_labels = mature_data_process(all_features, all_labels, scaler=robust_scaler)\n",
    "    numeric_col_names = list(set(numeric_col_names) & set(cur_features.columns.values))\n",
    "    cur_features = cur_features[numeric_col_names]\n",
    "    collection.append((cur_features[:n_train], cur_labels, cur_features[n_train:]))\n",
    "    if outlier_removed:\n",
    "        collection.extend(outlier_all_kinds(*collection[-1]))\n",
    "    print(\"Numeric data done\")\n",
    "    \n",
    "#     #Only categorical data\n",
    "#     cur_features, cur_labels = mature_data_process(all_features, all_labels, scaler=robust_scaler)\n",
    "#     categoical_col_names = list(set(cur_features.columns.values) - set(numeric_col_names))\n",
    "#     cur_features = cur_features[categoical_col_names]\n",
    "#     collection.append((cur_features[:n_train], cur_labels, cur_features[n_train:]))\n",
    "#     if outlier_removed:\n",
    "#         collection.extend(outlier_all_kinds(*collection[-1]))\n",
    "#     print(\"Categorical data done\")\n",
    "    \n",
    "    #Find important features using random forest and gbrm\n",
    "    models = [ensemble.RandomForestRegressor(), ensemble.GradientBoostingRegressor()]\n",
    "    cur_features, cur_labels = mature_data_process(all_features, all_labels, scaler=robust_scaler)\n",
    "    info_df = important_features(models, cur_features, cur_labels)\n",
    "    features_from_rr = set(info_df.loc[:20, ['features_RandomForestRegressor']].values.reshape(-1,))\n",
    "    features_from_gb = set(info_df.loc[:20, ['features_GradientBoostingRegressor']].values.reshape(-1,))\n",
    "    features_selected = features_from_rr.union(features_from_gb)\n",
    "    cur_features = cur_features[list(features_selected)]\n",
    "    collection.append((cur_features[:n_train], cur_labels, cur_features[n_train:]))\n",
    "    if outlier_removed:\n",
    "        collection.extend(outlier_all_kinds(*collection[-1]))\n",
    "    print(\"Forest and gbrm feature data done\")\n",
    "    \n",
    "#     #Use PCA to find \n",
    "#     pca = decomposition.PCA(n_components=30)\n",
    "#     cur_features, cur_labels = mature_data_process(all_features, all_labels, scaler=robust_scaler)\n",
    "#     cur_features = pd.DataFrame(pca.fit_transform(cur_features), index=cur_features.index)\n",
    "#     collection.append((cur_features[:n_train], cur_labels, cur_features[n_train:]))\n",
    "#     if outlier_removed:\n",
    "#         collection.extend(outlier_all_kinds(*collection[-1]))\n",
    "#     print(\"PCA feature data done\")\n",
    "    \n",
    "#     #Use Covariance\n",
    "#     cur_features, cur_labels = mature_data_process(all_features, all_labels, scaler=robust_scaler)\n",
    "#     corr_info = raw_train_data.corr()['SalePrice']\n",
    "#     cur_features = cur_features[list(corr_info[(corr_info > 0.2) & (corr_info < 1.0)].index)]\n",
    "#     collection.append((cur_features[:n_train], cur_labels, cur_features[n_train:]))\n",
    "#     if outlier_removed:\n",
    "#         collection.extend(outlier_all_kinds(*collection[-1]))\n",
    "#     print(\"Covariance feature data done\")\n",
    "    \n",
    "#     #Use RFECV\n",
    "#     rf_model = ensemble.RandomForestRegressor()\n",
    "#     selector = feature_selection.RFECV(estimator=rf_model, cv=3, scoring=rmse_scorer, verbose=0)\n",
    "#     cur_features, cur_labels = mature_data_process(all_features, all_labels, scaler=robust_scaler)\n",
    "#     selector.fit(cur_features[:len(cur_labels)], cur_labels)\n",
    "#     cur_features = pd.DataFrame(selector.transform(cur_features), index=cur_features.index)\n",
    "#     collection.append((cur_features[:n_train], cur_labels, cur_features[n_train:]))\n",
    "#     if outlier_removed:\n",
    "#         collection.extend(outlier_all_kinds(*collection[-1]))\n",
    "#     print(\"RFECV data done\")\n",
    "    \n",
    "    return collection  "
   ]
  },
  {
   "cell_type": "markdown",
   "metadata": {},
   "source": [
    "# Auto tune\n",
    "After modify the cross_validate and validation_framework function, we can make a auto tuning func"
   ]
  },
  {
   "cell_type": "raw",
   "metadata": {},
   "source": [
    "def auto_tune(\n",
    "    model_prototype,\n",
    "    train_features,\n",
    "    train_labels,\n",
    "    outlier_method_prototype,\n",
    "    model_param_grid,\n",
    "    outlier_remove_method_param_grid,\n",
    "    n_random_iteration=100,\n",
    "    grid_search_range=0.3\n",
    "):\n",
    "    if outlier_method_prototype is None:\n",
    "        outlier_remove_method_param_grid = {}\n",
    "        \n",
    "    best_random_model_param = {}\n",
    "    best_random_outlier_param = {}\n",
    "    best_loss = float('inf')\n",
    "    for n in tqdm_notebook(range(n_random_iteration)):\n",
    "        cur_model_param = {}\n",
    "        for key in model_param_grid:\n",
    "            cur_model_param[key] = np.random.choice(model_param_grid[key])\n",
    "        \n",
    "        if outlier_method_prototype is not None:\n",
    "            cur_outlier_remove_method_param = {}\n",
    "            for key in outlier_remove_method_param_grid:\n",
    "                cur_outlier_remove_method_param[key] = np.random.choice(outlier_remove_method_param_grid[key])\n",
    "            \n",
    "        model = model_prototype(**cur_model_param)\n",
    "        if outlier_method_prototype is not None:\n",
    "            outlier_dect = outlier_method_prototype(**cur_outlier_remove_method_param)\n",
    "        else:\n",
    "            outlier_dect = None\n",
    "\n",
    "        [model], _, info = validation_framework(\n",
    "            models_1=[model],\n",
    "            features=train_features,\n",
    "            labels=train_labels,\n",
    "            loss_fn=rmse,\n",
    "            outlier_remove_method=outlier_dect,\n",
    "            models_2=None,\n",
    "            k_fold=10,\n",
    "            holdout_rate=0.2,\n",
    "            tolerate_span=0.1,\n",
    "            ylim=(0, 0.5),\n",
    "            n_epochs=1,\n",
    "            verbose=0\n",
    "        )\n",
    "        if model is not None:\n",
    "            aver_loss = info[\"m1\"][0][\"cv\"]\n",
    "            if best_loss > aver_loss:\n",
    "                best_loss = aver_loss\n",
    "                best_random_model_param = cur_model_param\n",
    "                if outlier_method_prototype is not None:\n",
    "                    best_random_outlier_param = cur_outlier_remove_method_param\n",
    "                \n",
    "    if best_loss == float('inf'):\n",
    "        return None, {}, float('inf')\n",
    "    \n",
    "\n",
    "    for key in best_random_model_param:\n",
    "        if isinstance(best_random_model_param[key], (int,np.int32,np.int64,float,np.float32,np.float64)):\n",
    "            if isinstance(best_random_model_param[key], (int, np.int32, np.int64)):\n",
    "                anchor = best_random_model_param[key]\n",
    "                floor = int(anchor * (1 - grid_search_range))\n",
    "                floor = max(min(model_param_grid[key]), floor)\n",
    "                ceil = int(anchor * (1 + grid_search_range))\n",
    "                ceil = min(max(model_param_grid[key]), ceil)\n",
    "                step = max(1, (ceil - floor) // 10)\n",
    "                best_random_model_param[key] = [*range(floor, ceil+1, step)]\n",
    "            \n",
    "            else:\n",
    "                floor = max(min(model_param_grid[key]), best_random_model_param[key]*(1-grid_search_range))\n",
    "                ceil = min(max(model_param_grid[key]), best_random_model_param[key]*(1+grid_search_range))\n",
    "                best_random_model_param[key] = [*np.linspace(floor, ceil, 10)]\n",
    "                    \n",
    "        else:\n",
    "            best_random_model_param[key] = [best_random_model_param[key]]\n",
    "    \n",
    "    for key in best_random_outlier_param:\n",
    "        if isinstance(best_random_outlier_param[key], (int,np.int32,np.int64,float,np.float32,np.float64)):\n",
    "            if isinstance(best_random_outlier_param[key], (int, np.int32, np.int64)):\n",
    "                anchor = best_random_outlier_param[key]\n",
    "                floor = int(anchor * (1 - grid_search_range))\n",
    "                floor = max(min(outlier_remove_method_param_grid[key]), floor)\n",
    "                ceil = int(anchor * (1 + grid_search_range))\n",
    "                ceil = min(max(outlier_remove_method_param_grid[key]), ceil)\n",
    "                step = max(1, (ceil - floor) // 10)\n",
    "                best_random_outlier_param[key] = [*range(floor, ceil+1, step)]\n",
    "\n",
    "            else:\n",
    "                floor = max(min(outlier_remove_method_param_grid[key]), best_random_outlier_param[key]*(1-grid_search_range))\n",
    "                ceil = min(max(outlier_remove_method_param_grid[key]), best_random_outlier_param[key]*(1+grid_search_range))\n",
    "                best_random_outlier_param[key] = [*np.linspace(floor, ceil, 10)]\n",
    "        else:\n",
    "            best_random_outlier_param[key] = [best_random_outlier_param[key]]\n",
    "\n",
    "    outlier_params = _flatten([*best_random_outlier_param.items()])\n",
    "        \n",
    "    model_params = _flatten([*best_random_model_param.items()])\n",
    "    best_loss = float('inf')\n",
    "    best_model = None\n",
    "    best_outlier_param = {}\n",
    "\n",
    "    for outlier_param in tqdm_notebook(outlier_params):\n",
    "        if outlier_method_prototype is not None:\n",
    "            outlier_dect = outlier_method_prototype(**outlier_param)\n",
    "        \n",
    "        for model_param in model_params:\n",
    "            model = model_prototype(**model_param)\n",
    "            \n",
    "            [model], _, info = validation_framework(\n",
    "                models_1=[model],\n",
    "                features=train_features,\n",
    "                labels=train_labels,\n",
    "                loss_fn=rmse,\n",
    "                outlier_remove_method=outlier_dect,\n",
    "                models_2=None,\n",
    "                k_fold=10,\n",
    "                holdout_rate=0.2,\n",
    "                tolerate_span=0.1,\n",
    "                ylim=(0, 0.5),\n",
    "                n_epochs=1,\n",
    "                verbose=0\n",
    "            )\n",
    "            \n",
    "            if model is not None:\n",
    "                aver_loss = info[\"m1\"][0][\"cv\"]\n",
    "                if best_loss > aver_loss:\n",
    "                    best_loss = aver_loss\n",
    "                    best_model = model\n",
    "                    if outlier_method_prototype is not None:\n",
    "                        best_outlier_param = outlier_param\n",
    "                    \n",
    "    if best_loss == float('inf'):\n",
    "        return None, {}, float('inf')\n",
    "                \n",
    "    return best_model, best_outlier_param, info\n",
    "            \n",
    "    \n",
    "def _flatten(param_item_list):\n",
    "    if len(param_item_list) == 0:\n",
    "        return []\n",
    "    \n",
    "    if len(param_item_list) == 1:\n",
    "        ans = []\n",
    "        for param in param_item_list[0][1]:\n",
    "            ans.append({param_item_list[0][0]:param})\n",
    "        return ans\n",
    "    \n",
    "    else:\n",
    "        prev = _flatten(param_item_list[1:])\n",
    "        ans = []\n",
    "        for param in param_item_list[0][1]:\n",
    "            for param_dict in prev:\n",
    "                new_param_dict = param_dict.copy()\n",
    "                new_param_dict[param_item_list[0][0]] = param\n",
    "                ans.append(new_param_dict)\n",
    "        return ans"
   ]
  },
  {
   "cell_type": "raw",
   "metadata": {},
   "source": [
    "def batch_auto_tune(\n",
    "    model_param_dict,\n",
    "    dataset_list,\n",
    "    outlier_param_dict,\n",
    "    n_random_iteration=400, \n",
    "    grid_search_range=0.3\n",
    "):\n",
    "    summary = {}\n",
    "    n_total = len(model_param_dict) * len(dataset_list) * len(outlier_param_dict)\n",
    "    n_iter = 0\n",
    "    for model_proto, model_param in model_param_dict.items():\n",
    "        summary[model_proto] = {}\n",
    "        \n",
    "        for i, dataset in enumerate(dataset_list):\n",
    "            summary[model_proto][i] = {}\n",
    "            \n",
    "            for outlier_proto, outlier_param in outlier_param_dict.items():\n",
    "                n_iter += 1\n",
    "                print(\"{}/{}: {} is working on {} using {}\".format(\n",
    "                    n_iter,\n",
    "                    n_total,\n",
    "                    model_proto.__name__,\n",
    "                    dataset_kinds[i],\n",
    "                    (outlier_proto.__name__ if outlier_proto else 'None')\n",
    "                ))\n",
    "                best_model, best_outlier_param, info = auto_tune(\n",
    "                    model_prototype=model_proto,\n",
    "                    train_features=dataset[0],\n",
    "                    train_labels=dataset[1],\n",
    "                    outlier_method_prototype=outlier_proto,\n",
    "                    model_param_grid=model_param,\n",
    "                    outlier_remove_method_param_grid=outlier_param,\n",
    "                    n_random_iteration=n_random_iteration,\n",
    "                    grid_search_range=grid_search_range\n",
    "                )\n",
    "                summary[model_proto][i][outlier_proto] = (best_model, best_outlier_param, info)\n",
    "                \n",
    "    return summary"
   ]
  },
  {
   "cell_type": "raw",
   "metadata": {},
   "source": [
    "model_p_dict = {\n",
    "#     XGBRegressor: {'n_estimators':[*range(100, 500, 100)], 'learning_rate':[*np.linspace(0.05, 0.5, 10)], 'max_depth':[3,4,5], 'booster':['gbtree', 'gblinear', 'dart']},\n",
    "#     LGBMRegressor: {'boosting_type':['gbdt', 'dart', 'goss', 'rf'], 'n_estimators':[*range(100, 500, 100)], 'learning_rate':[*np.linspace(0.05, 0.5, 10)]},\n",
    "#     neighbors.KNeighborsRegressor: {'n_neighbors':[*range(3,8)], 'weights':['distance', 'uniform']},\n",
    "#     svm.SVR: {'C':[1.0, 2.0, 3.0]},\n",
    "#     NeuralNetwork: {'decay':[1e-4, 1e-5], 'n_epochs':[1,3,5], 'dropout':[0.1, 0.2, 0.3], 'batch_size':[1,5]},\n",
    "    linear_model.Ridge: {'alpha':[*np.linspace(0.1, 2.0, 10)], 'normalize':[False, True]},\n",
    "#     linear_model.BayesianRidge: {'n_iter': [300, 500]},\n",
    "#     linear_model.ARDRegression: {'n_iter': [300, 500]},\n",
    "#     ensemble.RandomForestRegressor: {'n_estimators':[*range(10, 12)], 'bootstrap':[False, True]},\n",
    "#     ensemble.GradientBoostingRegressor: {'n_estimators':[*range(100, 500, 100)], 'learning_rate':[*np.linspace(0.05, 0.5, 10)], 'max_depth':[3,4,5]},\n",
    "}\n",
    "\n",
    "outlier_param_dict = {\n",
    "    cluster.DBSCAN: {'eps':[*range(10, 12)], 'min_samples':[*range(5, 7)]},\n",
    "    ensemble.IsolationForest: {'n_estimators':[*range(100, 210, 2)]},\n",
    "    Truncate: {'s_percentile':[*np.linspace(0.1,0.3,2)], 'e_percentile':[*np.linspace(0.7,0.99,2)]},\n",
    "    None: {}\n",
    "}"
   ]
  },
  {
   "cell_type": "raw",
   "metadata": {},
   "source": [
    "linear_summary = batch_auto_tune(\n",
    "    model_param_dict=model_p_dict,\n",
    "    dataset_list=dataset_list,\n",
    "    outlier_param_dict=outlier_param_dict,\n",
    "    n_random_iteration=20,\n",
    "    grid_search_range=0.1\n",
    ")"
   ]
  },
  {
   "cell_type": "markdown",
   "metadata": {},
   "source": [
    "I have to admit that auto tune costs too much. It is a bad idea to test each model on each version of dataset with different parameters tuning in both model and dataset. It is a diaster, too many iterations are created.\n",
    "\n",
    "Thus, I should try another way. I would tune the model by hand, and fix that model on just one dataset, the best dataset. Now I use ridge to find which datasets are the k-best ones and only use those datasets. "
   ]
  },
  {
   "cell_type": "raw",
   "metadata": {},
   "source": [
    "def get_final_results(train_dataset, test_dataset, models, n_epochs=1, tolerate_space=0.07, holdout_rate=0.2, k_fold=10, threshold=None, verbose=1):\n",
    "    train_features, train_labels, test_features = train_dataset\n",
    "    models, _, info = validation_framework(\n",
    "        models_1=models,\n",
    "        features=train_features.copy(),\n",
    "        labels=train_labels.copy(),\n",
    "        loss_fn=rmse,\n",
    "        outlier_remove_method=None,\n",
    "        models_2=None,\n",
    "        k_fold=k_fold,\n",
    "        holdout_rate=holdout_rate,\n",
    "        tolerate_span=tolerate_space,\n",
    "        ylim=(0, 0.2),\n",
    "        n_epochs=n_epochs,\n",
    "        verbose=verbose\n",
    "    )\n",
    "    if threshold is not None:\n",
    "        pass\n",
    "    else:\n",
    "        train_mean_pred = np.median(np.concatenate([model.predict(test_dataset[0].values).reshape(-1,1) for model in models], axis=1), axis=1)\n",
    "        show_pred_diff(test_dataset[1], train_mean_pred)\n",
    "        print(\"The prediction {} on full training set: {}\".format(rmse.__name__, rmse(test_dataset[1], train_mean_pred)))\n",
    "        \n",
    "        preds = np.concatenate([model.predict(test_features.values).reshape(-1,1) for model in models], axis=1)\n",
    "        \n",
    "    return preds, models"
   ]
  },
  {
   "cell_type": "markdown",
   "metadata": {},
   "source": [
    "## dataset -> model\n",
    "Mature_iso(0) -BayesianRidge ARDRegression Ridge RandomForestRegressor GradientBoostingRegressor XGBRegressor LGBMRegressor CatBoostRegressor NeuralNetwork\n",
    "\n",
    "Obj Mature_iso(1) -RandomForestRegressor GradientBoostingRegressor XGBRegressor LGBMRegressor NeuralNetwork\n",
    "\n",
    "Numeric(2) -RandomForestRegressor GradientBoostingRegressor XGBRegressor LGBMRegressor NeuralNetwork\n",
    "\n",
    "Rdf_Gbrm_iso(3) -RandomForestRegressor GradientBoostingRegressor XGBRegressor LGBMRegressor NeuralNetwork SVR\n"
   ]
  },
  {
   "cell_type": "raw",
   "metadata": {},
   "source": [
    "model_grp_test = gen_models('Ridge', 20)\n",
    "pred_test, model_grp_test = get_final_results(train_dataset_list[1], test_dataset_list[1], model_grp_test, n_epochs=2, tolerate_space=0.01)\n"
   ]
  },
  {
   "cell_type": "raw",
   "metadata": {
    "scrolled": true
   },
   "source": [
    "model_grp0 = gen_models('NeuralNetwork', 16) + gen_models('Ridge', 2) + gen_models('BayesianRidge', 4) + gen_models('ARDRegression', 8) +\\\n",
    "             gen_models('RandomForestRegressor', 16) + gen_models('GradientBoostingRegressor', 16) + gen_models('XGBRegressor', 16) +\\\n",
    "             gen_models('LGBMRegressor', 16) + gen_models('CatBoostRegressor', 1)\n",
    "preds_0, model_grp0 = get_final_results(train_dataset_list[0], test_dataset_list[0], model_grp0, n_epochs=1)"
   ]
  },
  {
   "cell_type": "raw",
   "metadata": {},
   "source": [
    "model_grp1 = gen_models('RandomForestRegressor', 16) + gen_models('GradientBoostingRegressor', 16) + gen_models('XGBRegressor', 16) +\\\n",
    "             gen_models('LGBMRegressor', 16) + gen_models('NeuralNetwork', 16)\n",
    "preds_1, model_grp1 = get_final_results(train_dataset_list[1], test_dataset_list[1], model_grp1, n_epochs=2)"
   ]
  },
  {
   "cell_type": "raw",
   "metadata": {},
   "source": [
    "model_grp2 = gen_models('RandomForestRegressor', 16) + gen_models('GradientBoostingRegressor', 16) + gen_models('XGBRegressor', 16) +\\\n",
    "             gen_models('LGBMRegressor', 16) + gen_models('NeuralNetwork', 16)\n",
    "preds_2, model_grp2 = get_final_results(train_dataset_list[2], test_dataset_list[2], model_grp2, n_epochs=2)"
   ]
  },
  {
   "cell_type": "raw",
   "metadata": {},
   "source": [
    "model_grp3 = gen_models('RandomForestRegressor', 16) + gen_models('GradientBoostingRegressor', 16) + gen_models('XGBRegressor', 16) +\\\n",
    "             gen_models('LGBMRegressor', 16) + gen_models('NeuralNetwork', 16)\n",
    "preds_3, model_grp3 = get_final_results(train_dataset_list[3], test_dataset_list[3], model_grp3, n_epochs=2)"
   ]
  },
  {
   "cell_type": "raw",
   "metadata": {},
   "source": [
    "# pred_all = np.mean(np.concatenate([preds_0, preds_1, preds_2, preds_3], axis=1), axis=1).reshape(-1,)\n",
    "output_to_file(raw_test_data[\"Id\"], np.median(pred_test, axis=1))"
   ]
  },
  {
   "cell_type": "raw",
   "metadata": {},
   "source": [
    "def recover_train_pred(grp_num_list):\n",
    "    model_grp = [model_grp0, model_grp1, model_grp2, model_grp3]\n",
    "    pred_list = []\n",
    "    for grp_num in grp_num_list:\n",
    "        pred_list.extend([model.predict(test_dataset_list[grp_num][0].values).reshape((-1, 1)) for model in model_grp[grp_num]])\n",
    "    recover_train_pred = np.concatenate(pred_list, axis=1)\n",
    "    processed_train_pred = np.mean(recover_train_pred, axis=1)\n",
    "    pred_grp0_and_grp1 = pred_list[:len(model_grp0)+len(model_grp1)]\n",
    "    pred_aver_grp0_and_grp1 = np.mean(pred_grp0_and_grp1, axis=1)\n",
    "    for i in range(processed_train_pred.shape[0]):\n",
    "        if processed_train_pred[i] > 12.5 or processed_train_pred[i] < 11.5:\n",
    "            processed_train_pred[i] = pred_aver_grp0_and_grp1[i]\n",
    "    show_pred_diff(test_dataset_list[grp_num][1], processed_train_pred)\n",
    "    print(\"The prediction {} on full training set: {}\".format(rmse.__name__, rmse(test_dataset_list[grp_num][1], processed_train_pred)))\n",
    "    "
   ]
  },
  {
   "cell_type": "raw",
   "metadata": {},
   "source": [
    "recover_train_pred([0, 1, 2, 3])"
   ]
  }
 ],
 "metadata": {
  "kernelspec": {
   "display_name": "Python 3",
   "language": "python",
   "name": "python3"
  },
  "language_info": {
   "codemirror_mode": {
    "name": "ipython",
    "version": 3
   },
   "file_extension": ".py",
   "mimetype": "text/x-python",
   "name": "python",
   "nbconvert_exporter": "python",
   "pygments_lexer": "ipython3",
   "version": "3.6.6"
  }
 },
 "nbformat": 4,
 "nbformat_minor": 2
}
